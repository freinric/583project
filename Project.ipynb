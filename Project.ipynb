{
 "cells": [
  {
   "cell_type": "code",
   "execution_count": 1,
   "id": "e43da852",
   "metadata": {},
   "outputs": [
    {
     "data": {
      "text/html": [
       "'C:/Users/vjsng/Data583/583project'"
      ],
      "text/latex": [
       "'C:/Users/vjsng/Data583/583project'"
      ],
      "text/markdown": [
       "'C:/Users/vjsng/Data583/583project'"
      ],
      "text/plain": [
       "[1] \"C:/Users/vjsng/Data583/583project\""
      ]
     },
     "metadata": {},
     "output_type": "display_data"
    }
   ],
   "source": [
    "getwd()"
   ]
  },
  {
   "cell_type": "markdown",
   "id": "f46c4bfb",
   "metadata": {},
   "source": [
    "# Day csv"
   ]
  },
  {
   "cell_type": "code",
   "execution_count": 2,
   "id": "b3455dfe",
   "metadata": {},
   "outputs": [],
   "source": [
    "day = read.csv(\"Bike-Sharing-Dataset//day.csv\", header = TRUE)"
   ]
  },
  {
   "cell_type": "code",
   "execution_count": 3,
   "id": "9b02c3ba",
   "metadata": {},
   "outputs": [],
   "source": [
    "day$dteday = as.Date(day$dteday, format = \"%Y-%m-%d\") # converting 'dteday' column to date"
   ]
  },
  {
   "cell_type": "code",
   "execution_count": 4,
   "id": "14cafca3",
   "metadata": {},
   "outputs": [
    {
     "data": {
      "text/html": [
       "<table class=\"dataframe\">\n",
       "<caption>A data.frame: 30 × 16</caption>\n",
       "<thead>\n",
       "\t<tr><th></th><th scope=col>instant</th><th scope=col>dteday</th><th scope=col>season</th><th scope=col>yr</th><th scope=col>mnth</th><th scope=col>holiday</th><th scope=col>weekday</th><th scope=col>workingday</th><th scope=col>weathersit</th><th scope=col>temp</th><th scope=col>atemp</th><th scope=col>hum</th><th scope=col>windspeed</th><th scope=col>casual</th><th scope=col>registered</th><th scope=col>cnt</th></tr>\n",
       "\t<tr><th></th><th scope=col>&lt;int&gt;</th><th scope=col>&lt;date&gt;</th><th scope=col>&lt;int&gt;</th><th scope=col>&lt;int&gt;</th><th scope=col>&lt;int&gt;</th><th scope=col>&lt;int&gt;</th><th scope=col>&lt;int&gt;</th><th scope=col>&lt;int&gt;</th><th scope=col>&lt;int&gt;</th><th scope=col>&lt;dbl&gt;</th><th scope=col>&lt;dbl&gt;</th><th scope=col>&lt;dbl&gt;</th><th scope=col>&lt;dbl&gt;</th><th scope=col>&lt;int&gt;</th><th scope=col>&lt;int&gt;</th><th scope=col>&lt;int&gt;</th></tr>\n",
       "</thead>\n",
       "<tbody>\n",
       "\t<tr><th scope=row>1</th><td> 1</td><td>2011-01-01</td><td>1</td><td>0</td><td>1</td><td>0</td><td>6</td><td>0</td><td>2</td><td>0.3441670</td><td>0.3636250</td><td>0.805833</td><td>0.1604460</td><td>331</td><td> 654</td><td> 985</td></tr>\n",
       "\t<tr><th scope=row>2</th><td> 2</td><td>2011-01-02</td><td>1</td><td>0</td><td>1</td><td>0</td><td>0</td><td>0</td><td>2</td><td>0.3634780</td><td>0.3537390</td><td>0.696087</td><td>0.2485390</td><td>131</td><td> 670</td><td> 801</td></tr>\n",
       "\t<tr><th scope=row>3</th><td> 3</td><td>2011-01-03</td><td>1</td><td>0</td><td>1</td><td>0</td><td>1</td><td>1</td><td>1</td><td>0.1963640</td><td>0.1894050</td><td>0.437273</td><td>0.2483090</td><td>120</td><td>1229</td><td>1349</td></tr>\n",
       "\t<tr><th scope=row>4</th><td> 4</td><td>2011-01-04</td><td>1</td><td>0</td><td>1</td><td>0</td><td>2</td><td>1</td><td>1</td><td>0.2000000</td><td>0.2121220</td><td>0.590435</td><td>0.1602960</td><td>108</td><td>1454</td><td>1562</td></tr>\n",
       "\t<tr><th scope=row>5</th><td> 5</td><td>2011-01-05</td><td>1</td><td>0</td><td>1</td><td>0</td><td>3</td><td>1</td><td>1</td><td>0.2269570</td><td>0.2292700</td><td>0.436957</td><td>0.1869000</td><td> 82</td><td>1518</td><td>1600</td></tr>\n",
       "\t<tr><th scope=row>6</th><td> 6</td><td>2011-01-06</td><td>1</td><td>0</td><td>1</td><td>0</td><td>4</td><td>1</td><td>1</td><td>0.2043480</td><td>0.2332090</td><td>0.518261</td><td>0.0895652</td><td> 88</td><td>1518</td><td>1606</td></tr>\n",
       "\t<tr><th scope=row>7</th><td> 7</td><td>2011-01-07</td><td>1</td><td>0</td><td>1</td><td>0</td><td>5</td><td>1</td><td>2</td><td>0.1965220</td><td>0.2088390</td><td>0.498696</td><td>0.1687260</td><td>148</td><td>1362</td><td>1510</td></tr>\n",
       "\t<tr><th scope=row>8</th><td> 8</td><td>2011-01-08</td><td>1</td><td>0</td><td>1</td><td>0</td><td>6</td><td>0</td><td>2</td><td>0.1650000</td><td>0.1622540</td><td>0.535833</td><td>0.2668040</td><td> 68</td><td> 891</td><td> 959</td></tr>\n",
       "\t<tr><th scope=row>9</th><td> 9</td><td>2011-01-09</td><td>1</td><td>0</td><td>1</td><td>0</td><td>0</td><td>0</td><td>1</td><td>0.1383330</td><td>0.1161750</td><td>0.434167</td><td>0.3619500</td><td> 54</td><td> 768</td><td> 822</td></tr>\n",
       "\t<tr><th scope=row>10</th><td>10</td><td>2011-01-10</td><td>1</td><td>0</td><td>1</td><td>0</td><td>1</td><td>1</td><td>1</td><td>0.1508330</td><td>0.1508880</td><td>0.482917</td><td>0.2232670</td><td> 41</td><td>1280</td><td>1321</td></tr>\n",
       "\t<tr><th scope=row>11</th><td>11</td><td>2011-01-11</td><td>1</td><td>0</td><td>1</td><td>0</td><td>2</td><td>1</td><td>2</td><td>0.1690910</td><td>0.1914640</td><td>0.686364</td><td>0.1221320</td><td> 43</td><td>1220</td><td>1263</td></tr>\n",
       "\t<tr><th scope=row>12</th><td>12</td><td>2011-01-12</td><td>1</td><td>0</td><td>1</td><td>0</td><td>3</td><td>1</td><td>1</td><td>0.1727270</td><td>0.1604730</td><td>0.599545</td><td>0.3046270</td><td> 25</td><td>1137</td><td>1162</td></tr>\n",
       "\t<tr><th scope=row>13</th><td>13</td><td>2011-01-13</td><td>1</td><td>0</td><td>1</td><td>0</td><td>4</td><td>1</td><td>1</td><td>0.1650000</td><td>0.1508830</td><td>0.470417</td><td>0.3010000</td><td> 38</td><td>1368</td><td>1406</td></tr>\n",
       "\t<tr><th scope=row>14</th><td>14</td><td>2011-01-14</td><td>1</td><td>0</td><td>1</td><td>0</td><td>5</td><td>1</td><td>1</td><td>0.1608700</td><td>0.1884130</td><td>0.537826</td><td>0.1265480</td><td> 54</td><td>1367</td><td>1421</td></tr>\n",
       "\t<tr><th scope=row>15</th><td>15</td><td>2011-01-15</td><td>1</td><td>0</td><td>1</td><td>0</td><td>6</td><td>0</td><td>2</td><td>0.2333330</td><td>0.2481120</td><td>0.498750</td><td>0.1579630</td><td>222</td><td>1026</td><td>1248</td></tr>\n",
       "\t<tr><th scope=row>16</th><td>16</td><td>2011-01-16</td><td>1</td><td>0</td><td>1</td><td>0</td><td>0</td><td>0</td><td>1</td><td>0.2316670</td><td>0.2342170</td><td>0.483750</td><td>0.1884330</td><td>251</td><td> 953</td><td>1204</td></tr>\n",
       "\t<tr><th scope=row>17</th><td>17</td><td>2011-01-17</td><td>1</td><td>0</td><td>1</td><td>1</td><td>1</td><td>0</td><td>2</td><td>0.1758330</td><td>0.1767710</td><td>0.537500</td><td>0.1940170</td><td>117</td><td> 883</td><td>1000</td></tr>\n",
       "\t<tr><th scope=row>18</th><td>18</td><td>2011-01-18</td><td>1</td><td>0</td><td>1</td><td>0</td><td>2</td><td>1</td><td>2</td><td>0.2166670</td><td>0.2323330</td><td>0.861667</td><td>0.1467750</td><td>  9</td><td> 674</td><td> 683</td></tr>\n",
       "\t<tr><th scope=row>19</th><td>19</td><td>2011-01-19</td><td>1</td><td>0</td><td>1</td><td>0</td><td>3</td><td>1</td><td>2</td><td>0.2921740</td><td>0.2984220</td><td>0.741739</td><td>0.2083170</td><td> 78</td><td>1572</td><td>1650</td></tr>\n",
       "\t<tr><th scope=row>20</th><td>20</td><td>2011-01-20</td><td>1</td><td>0</td><td>1</td><td>0</td><td>4</td><td>1</td><td>2</td><td>0.2616670</td><td>0.2550500</td><td>0.538333</td><td>0.1959040</td><td> 83</td><td>1844</td><td>1927</td></tr>\n",
       "\t<tr><th scope=row>21</th><td>21</td><td>2011-01-21</td><td>1</td><td>0</td><td>1</td><td>0</td><td>5</td><td>1</td><td>1</td><td>0.1775000</td><td>0.1578330</td><td>0.457083</td><td>0.3532420</td><td> 75</td><td>1468</td><td>1543</td></tr>\n",
       "\t<tr><th scope=row>22</th><td>22</td><td>2011-01-22</td><td>1</td><td>0</td><td>1</td><td>0</td><td>6</td><td>0</td><td>1</td><td>0.0591304</td><td>0.0790696</td><td>0.400000</td><td>0.1719700</td><td> 93</td><td> 888</td><td> 981</td></tr>\n",
       "\t<tr><th scope=row>23</th><td>23</td><td>2011-01-23</td><td>1</td><td>0</td><td>1</td><td>0</td><td>0</td><td>0</td><td>1</td><td>0.0965217</td><td>0.0988391</td><td>0.436522</td><td>0.2466000</td><td>150</td><td> 836</td><td> 986</td></tr>\n",
       "\t<tr><th scope=row>24</th><td>24</td><td>2011-01-24</td><td>1</td><td>0</td><td>1</td><td>0</td><td>1</td><td>1</td><td>1</td><td>0.0973913</td><td>0.1179300</td><td>0.491739</td><td>0.1583300</td><td> 86</td><td>1330</td><td>1416</td></tr>\n",
       "\t<tr><th scope=row>25</th><td>25</td><td>2011-01-25</td><td>1</td><td>0</td><td>1</td><td>0</td><td>2</td><td>1</td><td>2</td><td>0.2234780</td><td>0.2345260</td><td>0.616957</td><td>0.1297960</td><td>186</td><td>1799</td><td>1985</td></tr>\n",
       "\t<tr><th scope=row>26</th><td>26</td><td>2011-01-26</td><td>1</td><td>0</td><td>1</td><td>0</td><td>3</td><td>1</td><td>3</td><td>0.2175000</td><td>0.2036000</td><td>0.862500</td><td>0.2938500</td><td> 34</td><td> 472</td><td> 506</td></tr>\n",
       "\t<tr><th scope=row>27</th><td>27</td><td>2011-01-27</td><td>1</td><td>0</td><td>1</td><td>0</td><td>4</td><td>1</td><td>1</td><td>0.1950000</td><td>0.2197000</td><td>0.687500</td><td>0.1138370</td><td> 15</td><td> 416</td><td> 431</td></tr>\n",
       "\t<tr><th scope=row>28</th><td>28</td><td>2011-01-28</td><td>1</td><td>0</td><td>1</td><td>0</td><td>5</td><td>1</td><td>2</td><td>0.2034780</td><td>0.2233170</td><td>0.793043</td><td>0.1233000</td><td> 38</td><td>1129</td><td>1167</td></tr>\n",
       "\t<tr><th scope=row>29</th><td>29</td><td>2011-01-29</td><td>1</td><td>0</td><td>1</td><td>0</td><td>6</td><td>0</td><td>1</td><td>0.1965220</td><td>0.2121260</td><td>0.651739</td><td>0.1453650</td><td>123</td><td> 975</td><td>1098</td></tr>\n",
       "\t<tr><th scope=row>30</th><td>30</td><td>2011-01-30</td><td>1</td><td>0</td><td>1</td><td>0</td><td>0</td><td>0</td><td>1</td><td>0.2165220</td><td>0.2503220</td><td>0.722174</td><td>0.0739826</td><td>140</td><td> 956</td><td>1096</td></tr>\n",
       "</tbody>\n",
       "</table>\n"
      ],
      "text/latex": [
       "A data.frame: 30 × 16\n",
       "\\begin{tabular}{r|llllllllllllllll}\n",
       "  & instant & dteday & season & yr & mnth & holiday & weekday & workingday & weathersit & temp & atemp & hum & windspeed & casual & registered & cnt\\\\\n",
       "  & <int> & <date> & <int> & <int> & <int> & <int> & <int> & <int> & <int> & <dbl> & <dbl> & <dbl> & <dbl> & <int> & <int> & <int>\\\\\n",
       "\\hline\n",
       "\t1 &  1 & 2011-01-01 & 1 & 0 & 1 & 0 & 6 & 0 & 2 & 0.3441670 & 0.3636250 & 0.805833 & 0.1604460 & 331 &  654 &  985\\\\\n",
       "\t2 &  2 & 2011-01-02 & 1 & 0 & 1 & 0 & 0 & 0 & 2 & 0.3634780 & 0.3537390 & 0.696087 & 0.2485390 & 131 &  670 &  801\\\\\n",
       "\t3 &  3 & 2011-01-03 & 1 & 0 & 1 & 0 & 1 & 1 & 1 & 0.1963640 & 0.1894050 & 0.437273 & 0.2483090 & 120 & 1229 & 1349\\\\\n",
       "\t4 &  4 & 2011-01-04 & 1 & 0 & 1 & 0 & 2 & 1 & 1 & 0.2000000 & 0.2121220 & 0.590435 & 0.1602960 & 108 & 1454 & 1562\\\\\n",
       "\t5 &  5 & 2011-01-05 & 1 & 0 & 1 & 0 & 3 & 1 & 1 & 0.2269570 & 0.2292700 & 0.436957 & 0.1869000 &  82 & 1518 & 1600\\\\\n",
       "\t6 &  6 & 2011-01-06 & 1 & 0 & 1 & 0 & 4 & 1 & 1 & 0.2043480 & 0.2332090 & 0.518261 & 0.0895652 &  88 & 1518 & 1606\\\\\n",
       "\t7 &  7 & 2011-01-07 & 1 & 0 & 1 & 0 & 5 & 1 & 2 & 0.1965220 & 0.2088390 & 0.498696 & 0.1687260 & 148 & 1362 & 1510\\\\\n",
       "\t8 &  8 & 2011-01-08 & 1 & 0 & 1 & 0 & 6 & 0 & 2 & 0.1650000 & 0.1622540 & 0.535833 & 0.2668040 &  68 &  891 &  959\\\\\n",
       "\t9 &  9 & 2011-01-09 & 1 & 0 & 1 & 0 & 0 & 0 & 1 & 0.1383330 & 0.1161750 & 0.434167 & 0.3619500 &  54 &  768 &  822\\\\\n",
       "\t10 & 10 & 2011-01-10 & 1 & 0 & 1 & 0 & 1 & 1 & 1 & 0.1508330 & 0.1508880 & 0.482917 & 0.2232670 &  41 & 1280 & 1321\\\\\n",
       "\t11 & 11 & 2011-01-11 & 1 & 0 & 1 & 0 & 2 & 1 & 2 & 0.1690910 & 0.1914640 & 0.686364 & 0.1221320 &  43 & 1220 & 1263\\\\\n",
       "\t12 & 12 & 2011-01-12 & 1 & 0 & 1 & 0 & 3 & 1 & 1 & 0.1727270 & 0.1604730 & 0.599545 & 0.3046270 &  25 & 1137 & 1162\\\\\n",
       "\t13 & 13 & 2011-01-13 & 1 & 0 & 1 & 0 & 4 & 1 & 1 & 0.1650000 & 0.1508830 & 0.470417 & 0.3010000 &  38 & 1368 & 1406\\\\\n",
       "\t14 & 14 & 2011-01-14 & 1 & 0 & 1 & 0 & 5 & 1 & 1 & 0.1608700 & 0.1884130 & 0.537826 & 0.1265480 &  54 & 1367 & 1421\\\\\n",
       "\t15 & 15 & 2011-01-15 & 1 & 0 & 1 & 0 & 6 & 0 & 2 & 0.2333330 & 0.2481120 & 0.498750 & 0.1579630 & 222 & 1026 & 1248\\\\\n",
       "\t16 & 16 & 2011-01-16 & 1 & 0 & 1 & 0 & 0 & 0 & 1 & 0.2316670 & 0.2342170 & 0.483750 & 0.1884330 & 251 &  953 & 1204\\\\\n",
       "\t17 & 17 & 2011-01-17 & 1 & 0 & 1 & 1 & 1 & 0 & 2 & 0.1758330 & 0.1767710 & 0.537500 & 0.1940170 & 117 &  883 & 1000\\\\\n",
       "\t18 & 18 & 2011-01-18 & 1 & 0 & 1 & 0 & 2 & 1 & 2 & 0.2166670 & 0.2323330 & 0.861667 & 0.1467750 &   9 &  674 &  683\\\\\n",
       "\t19 & 19 & 2011-01-19 & 1 & 0 & 1 & 0 & 3 & 1 & 2 & 0.2921740 & 0.2984220 & 0.741739 & 0.2083170 &  78 & 1572 & 1650\\\\\n",
       "\t20 & 20 & 2011-01-20 & 1 & 0 & 1 & 0 & 4 & 1 & 2 & 0.2616670 & 0.2550500 & 0.538333 & 0.1959040 &  83 & 1844 & 1927\\\\\n",
       "\t21 & 21 & 2011-01-21 & 1 & 0 & 1 & 0 & 5 & 1 & 1 & 0.1775000 & 0.1578330 & 0.457083 & 0.3532420 &  75 & 1468 & 1543\\\\\n",
       "\t22 & 22 & 2011-01-22 & 1 & 0 & 1 & 0 & 6 & 0 & 1 & 0.0591304 & 0.0790696 & 0.400000 & 0.1719700 &  93 &  888 &  981\\\\\n",
       "\t23 & 23 & 2011-01-23 & 1 & 0 & 1 & 0 & 0 & 0 & 1 & 0.0965217 & 0.0988391 & 0.436522 & 0.2466000 & 150 &  836 &  986\\\\\n",
       "\t24 & 24 & 2011-01-24 & 1 & 0 & 1 & 0 & 1 & 1 & 1 & 0.0973913 & 0.1179300 & 0.491739 & 0.1583300 &  86 & 1330 & 1416\\\\\n",
       "\t25 & 25 & 2011-01-25 & 1 & 0 & 1 & 0 & 2 & 1 & 2 & 0.2234780 & 0.2345260 & 0.616957 & 0.1297960 & 186 & 1799 & 1985\\\\\n",
       "\t26 & 26 & 2011-01-26 & 1 & 0 & 1 & 0 & 3 & 1 & 3 & 0.2175000 & 0.2036000 & 0.862500 & 0.2938500 &  34 &  472 &  506\\\\\n",
       "\t27 & 27 & 2011-01-27 & 1 & 0 & 1 & 0 & 4 & 1 & 1 & 0.1950000 & 0.2197000 & 0.687500 & 0.1138370 &  15 &  416 &  431\\\\\n",
       "\t28 & 28 & 2011-01-28 & 1 & 0 & 1 & 0 & 5 & 1 & 2 & 0.2034780 & 0.2233170 & 0.793043 & 0.1233000 &  38 & 1129 & 1167\\\\\n",
       "\t29 & 29 & 2011-01-29 & 1 & 0 & 1 & 0 & 6 & 0 & 1 & 0.1965220 & 0.2121260 & 0.651739 & 0.1453650 & 123 &  975 & 1098\\\\\n",
       "\t30 & 30 & 2011-01-30 & 1 & 0 & 1 & 0 & 0 & 0 & 1 & 0.2165220 & 0.2503220 & 0.722174 & 0.0739826 & 140 &  956 & 1096\\\\\n",
       "\\end{tabular}\n"
      ],
      "text/markdown": [
       "\n",
       "A data.frame: 30 × 16\n",
       "\n",
       "| <!--/--> | instant &lt;int&gt; | dteday &lt;date&gt; | season &lt;int&gt; | yr &lt;int&gt; | mnth &lt;int&gt; | holiday &lt;int&gt; | weekday &lt;int&gt; | workingday &lt;int&gt; | weathersit &lt;int&gt; | temp &lt;dbl&gt; | atemp &lt;dbl&gt; | hum &lt;dbl&gt; | windspeed &lt;dbl&gt; | casual &lt;int&gt; | registered &lt;int&gt; | cnt &lt;int&gt; |\n",
       "|---|---|---|---|---|---|---|---|---|---|---|---|---|---|---|---|---|\n",
       "| 1 |  1 | 2011-01-01 | 1 | 0 | 1 | 0 | 6 | 0 | 2 | 0.3441670 | 0.3636250 | 0.805833 | 0.1604460 | 331 |  654 |  985 |\n",
       "| 2 |  2 | 2011-01-02 | 1 | 0 | 1 | 0 | 0 | 0 | 2 | 0.3634780 | 0.3537390 | 0.696087 | 0.2485390 | 131 |  670 |  801 |\n",
       "| 3 |  3 | 2011-01-03 | 1 | 0 | 1 | 0 | 1 | 1 | 1 | 0.1963640 | 0.1894050 | 0.437273 | 0.2483090 | 120 | 1229 | 1349 |\n",
       "| 4 |  4 | 2011-01-04 | 1 | 0 | 1 | 0 | 2 | 1 | 1 | 0.2000000 | 0.2121220 | 0.590435 | 0.1602960 | 108 | 1454 | 1562 |\n",
       "| 5 |  5 | 2011-01-05 | 1 | 0 | 1 | 0 | 3 | 1 | 1 | 0.2269570 | 0.2292700 | 0.436957 | 0.1869000 |  82 | 1518 | 1600 |\n",
       "| 6 |  6 | 2011-01-06 | 1 | 0 | 1 | 0 | 4 | 1 | 1 | 0.2043480 | 0.2332090 | 0.518261 | 0.0895652 |  88 | 1518 | 1606 |\n",
       "| 7 |  7 | 2011-01-07 | 1 | 0 | 1 | 0 | 5 | 1 | 2 | 0.1965220 | 0.2088390 | 0.498696 | 0.1687260 | 148 | 1362 | 1510 |\n",
       "| 8 |  8 | 2011-01-08 | 1 | 0 | 1 | 0 | 6 | 0 | 2 | 0.1650000 | 0.1622540 | 0.535833 | 0.2668040 |  68 |  891 |  959 |\n",
       "| 9 |  9 | 2011-01-09 | 1 | 0 | 1 | 0 | 0 | 0 | 1 | 0.1383330 | 0.1161750 | 0.434167 | 0.3619500 |  54 |  768 |  822 |\n",
       "| 10 | 10 | 2011-01-10 | 1 | 0 | 1 | 0 | 1 | 1 | 1 | 0.1508330 | 0.1508880 | 0.482917 | 0.2232670 |  41 | 1280 | 1321 |\n",
       "| 11 | 11 | 2011-01-11 | 1 | 0 | 1 | 0 | 2 | 1 | 2 | 0.1690910 | 0.1914640 | 0.686364 | 0.1221320 |  43 | 1220 | 1263 |\n",
       "| 12 | 12 | 2011-01-12 | 1 | 0 | 1 | 0 | 3 | 1 | 1 | 0.1727270 | 0.1604730 | 0.599545 | 0.3046270 |  25 | 1137 | 1162 |\n",
       "| 13 | 13 | 2011-01-13 | 1 | 0 | 1 | 0 | 4 | 1 | 1 | 0.1650000 | 0.1508830 | 0.470417 | 0.3010000 |  38 | 1368 | 1406 |\n",
       "| 14 | 14 | 2011-01-14 | 1 | 0 | 1 | 0 | 5 | 1 | 1 | 0.1608700 | 0.1884130 | 0.537826 | 0.1265480 |  54 | 1367 | 1421 |\n",
       "| 15 | 15 | 2011-01-15 | 1 | 0 | 1 | 0 | 6 | 0 | 2 | 0.2333330 | 0.2481120 | 0.498750 | 0.1579630 | 222 | 1026 | 1248 |\n",
       "| 16 | 16 | 2011-01-16 | 1 | 0 | 1 | 0 | 0 | 0 | 1 | 0.2316670 | 0.2342170 | 0.483750 | 0.1884330 | 251 |  953 | 1204 |\n",
       "| 17 | 17 | 2011-01-17 | 1 | 0 | 1 | 1 | 1 | 0 | 2 | 0.1758330 | 0.1767710 | 0.537500 | 0.1940170 | 117 |  883 | 1000 |\n",
       "| 18 | 18 | 2011-01-18 | 1 | 0 | 1 | 0 | 2 | 1 | 2 | 0.2166670 | 0.2323330 | 0.861667 | 0.1467750 |   9 |  674 |  683 |\n",
       "| 19 | 19 | 2011-01-19 | 1 | 0 | 1 | 0 | 3 | 1 | 2 | 0.2921740 | 0.2984220 | 0.741739 | 0.2083170 |  78 | 1572 | 1650 |\n",
       "| 20 | 20 | 2011-01-20 | 1 | 0 | 1 | 0 | 4 | 1 | 2 | 0.2616670 | 0.2550500 | 0.538333 | 0.1959040 |  83 | 1844 | 1927 |\n",
       "| 21 | 21 | 2011-01-21 | 1 | 0 | 1 | 0 | 5 | 1 | 1 | 0.1775000 | 0.1578330 | 0.457083 | 0.3532420 |  75 | 1468 | 1543 |\n",
       "| 22 | 22 | 2011-01-22 | 1 | 0 | 1 | 0 | 6 | 0 | 1 | 0.0591304 | 0.0790696 | 0.400000 | 0.1719700 |  93 |  888 |  981 |\n",
       "| 23 | 23 | 2011-01-23 | 1 | 0 | 1 | 0 | 0 | 0 | 1 | 0.0965217 | 0.0988391 | 0.436522 | 0.2466000 | 150 |  836 |  986 |\n",
       "| 24 | 24 | 2011-01-24 | 1 | 0 | 1 | 0 | 1 | 1 | 1 | 0.0973913 | 0.1179300 | 0.491739 | 0.1583300 |  86 | 1330 | 1416 |\n",
       "| 25 | 25 | 2011-01-25 | 1 | 0 | 1 | 0 | 2 | 1 | 2 | 0.2234780 | 0.2345260 | 0.616957 | 0.1297960 | 186 | 1799 | 1985 |\n",
       "| 26 | 26 | 2011-01-26 | 1 | 0 | 1 | 0 | 3 | 1 | 3 | 0.2175000 | 0.2036000 | 0.862500 | 0.2938500 |  34 |  472 |  506 |\n",
       "| 27 | 27 | 2011-01-27 | 1 | 0 | 1 | 0 | 4 | 1 | 1 | 0.1950000 | 0.2197000 | 0.687500 | 0.1138370 |  15 |  416 |  431 |\n",
       "| 28 | 28 | 2011-01-28 | 1 | 0 | 1 | 0 | 5 | 1 | 2 | 0.2034780 | 0.2233170 | 0.793043 | 0.1233000 |  38 | 1129 | 1167 |\n",
       "| 29 | 29 | 2011-01-29 | 1 | 0 | 1 | 0 | 6 | 0 | 1 | 0.1965220 | 0.2121260 | 0.651739 | 0.1453650 | 123 |  975 | 1098 |\n",
       "| 30 | 30 | 2011-01-30 | 1 | 0 | 1 | 0 | 0 | 0 | 1 | 0.2165220 | 0.2503220 | 0.722174 | 0.0739826 | 140 |  956 | 1096 |\n",
       "\n"
      ],
      "text/plain": [
       "   instant dteday     season yr mnth holiday weekday workingday weathersit\n",
       "1   1      2011-01-01 1      0  1    0       6       0          2         \n",
       "2   2      2011-01-02 1      0  1    0       0       0          2         \n",
       "3   3      2011-01-03 1      0  1    0       1       1          1         \n",
       "4   4      2011-01-04 1      0  1    0       2       1          1         \n",
       "5   5      2011-01-05 1      0  1    0       3       1          1         \n",
       "6   6      2011-01-06 1      0  1    0       4       1          1         \n",
       "7   7      2011-01-07 1      0  1    0       5       1          2         \n",
       "8   8      2011-01-08 1      0  1    0       6       0          2         \n",
       "9   9      2011-01-09 1      0  1    0       0       0          1         \n",
       "10 10      2011-01-10 1      0  1    0       1       1          1         \n",
       "11 11      2011-01-11 1      0  1    0       2       1          2         \n",
       "12 12      2011-01-12 1      0  1    0       3       1          1         \n",
       "13 13      2011-01-13 1      0  1    0       4       1          1         \n",
       "14 14      2011-01-14 1      0  1    0       5       1          1         \n",
       "15 15      2011-01-15 1      0  1    0       6       0          2         \n",
       "16 16      2011-01-16 1      0  1    0       0       0          1         \n",
       "17 17      2011-01-17 1      0  1    1       1       0          2         \n",
       "18 18      2011-01-18 1      0  1    0       2       1          2         \n",
       "19 19      2011-01-19 1      0  1    0       3       1          2         \n",
       "20 20      2011-01-20 1      0  1    0       4       1          2         \n",
       "21 21      2011-01-21 1      0  1    0       5       1          1         \n",
       "22 22      2011-01-22 1      0  1    0       6       0          1         \n",
       "23 23      2011-01-23 1      0  1    0       0       0          1         \n",
       "24 24      2011-01-24 1      0  1    0       1       1          1         \n",
       "25 25      2011-01-25 1      0  1    0       2       1          2         \n",
       "26 26      2011-01-26 1      0  1    0       3       1          3         \n",
       "27 27      2011-01-27 1      0  1    0       4       1          1         \n",
       "28 28      2011-01-28 1      0  1    0       5       1          2         \n",
       "29 29      2011-01-29 1      0  1    0       6       0          1         \n",
       "30 30      2011-01-30 1      0  1    0       0       0          1         \n",
       "   temp      atemp     hum      windspeed casual registered cnt \n",
       "1  0.3441670 0.3636250 0.805833 0.1604460 331     654        985\n",
       "2  0.3634780 0.3537390 0.696087 0.2485390 131     670        801\n",
       "3  0.1963640 0.1894050 0.437273 0.2483090 120    1229       1349\n",
       "4  0.2000000 0.2121220 0.590435 0.1602960 108    1454       1562\n",
       "5  0.2269570 0.2292700 0.436957 0.1869000  82    1518       1600\n",
       "6  0.2043480 0.2332090 0.518261 0.0895652  88    1518       1606\n",
       "7  0.1965220 0.2088390 0.498696 0.1687260 148    1362       1510\n",
       "8  0.1650000 0.1622540 0.535833 0.2668040  68     891        959\n",
       "9  0.1383330 0.1161750 0.434167 0.3619500  54     768        822\n",
       "10 0.1508330 0.1508880 0.482917 0.2232670  41    1280       1321\n",
       "11 0.1690910 0.1914640 0.686364 0.1221320  43    1220       1263\n",
       "12 0.1727270 0.1604730 0.599545 0.3046270  25    1137       1162\n",
       "13 0.1650000 0.1508830 0.470417 0.3010000  38    1368       1406\n",
       "14 0.1608700 0.1884130 0.537826 0.1265480  54    1367       1421\n",
       "15 0.2333330 0.2481120 0.498750 0.1579630 222    1026       1248\n",
       "16 0.2316670 0.2342170 0.483750 0.1884330 251     953       1204\n",
       "17 0.1758330 0.1767710 0.537500 0.1940170 117     883       1000\n",
       "18 0.2166670 0.2323330 0.861667 0.1467750   9     674        683\n",
       "19 0.2921740 0.2984220 0.741739 0.2083170  78    1572       1650\n",
       "20 0.2616670 0.2550500 0.538333 0.1959040  83    1844       1927\n",
       "21 0.1775000 0.1578330 0.457083 0.3532420  75    1468       1543\n",
       "22 0.0591304 0.0790696 0.400000 0.1719700  93     888        981\n",
       "23 0.0965217 0.0988391 0.436522 0.2466000 150     836        986\n",
       "24 0.0973913 0.1179300 0.491739 0.1583300  86    1330       1416\n",
       "25 0.2234780 0.2345260 0.616957 0.1297960 186    1799       1985\n",
       "26 0.2175000 0.2036000 0.862500 0.2938500  34     472        506\n",
       "27 0.1950000 0.2197000 0.687500 0.1138370  15     416        431\n",
       "28 0.2034780 0.2233170 0.793043 0.1233000  38    1129       1167\n",
       "29 0.1965220 0.2121260 0.651739 0.1453650 123     975       1098\n",
       "30 0.2165220 0.2503220 0.722174 0.0739826 140     956       1096"
      ]
     },
     "metadata": {},
     "output_type": "display_data"
    },
    {
     "data": {
      "text/html": [
       "<style>\n",
       ".dl-inline {width: auto; margin:0; padding: 0}\n",
       ".dl-inline>dt, .dl-inline>dd {float: none; width: auto; display: inline-block}\n",
       ".dl-inline>dt::after {content: \":\\0020\"; padding-right: .5ex}\n",
       ".dl-inline>dt:not(:first-of-type) {padding-left: .5ex}\n",
       "</style><dl class=dl-inline><dt>instant</dt><dd>0</dd><dt>dteday</dt><dd>0</dd><dt>season</dt><dd>0</dd><dt>yr</dt><dd>0</dd><dt>mnth</dt><dd>0</dd><dt>holiday</dt><dd>0</dd><dt>weekday</dt><dd>0</dd><dt>workingday</dt><dd>0</dd><dt>weathersit</dt><dd>0</dd><dt>temp</dt><dd>0</dd><dt>atemp</dt><dd>0</dd><dt>hum</dt><dd>0</dd><dt>windspeed</dt><dd>0</dd><dt>casual</dt><dd>0</dd><dt>registered</dt><dd>0</dd><dt>cnt</dt><dd>0</dd></dl>\n"
      ],
      "text/latex": [
       "\\begin{description*}\n",
       "\\item[instant] 0\n",
       "\\item[dteday] 0\n",
       "\\item[season] 0\n",
       "\\item[yr] 0\n",
       "\\item[mnth] 0\n",
       "\\item[holiday] 0\n",
       "\\item[weekday] 0\n",
       "\\item[workingday] 0\n",
       "\\item[weathersit] 0\n",
       "\\item[temp] 0\n",
       "\\item[atemp] 0\n",
       "\\item[hum] 0\n",
       "\\item[windspeed] 0\n",
       "\\item[casual] 0\n",
       "\\item[registered] 0\n",
       "\\item[cnt] 0\n",
       "\\end{description*}\n"
      ],
      "text/markdown": [
       "instant\n",
       ":   0dteday\n",
       ":   0season\n",
       ":   0yr\n",
       ":   0mnth\n",
       ":   0holiday\n",
       ":   0weekday\n",
       ":   0workingday\n",
       ":   0weathersit\n",
       ":   0temp\n",
       ":   0atemp\n",
       ":   0hum\n",
       ":   0windspeed\n",
       ":   0casual\n",
       ":   0registered\n",
       ":   0cnt\n",
       ":   0\n",
       "\n"
      ],
      "text/plain": [
       "   instant     dteday     season         yr       mnth    holiday    weekday \n",
       "         0          0          0          0          0          0          0 \n",
       "workingday weathersit       temp      atemp        hum  windspeed     casual \n",
       "         0          0          0          0          0          0          0 \n",
       "registered        cnt \n",
       "         0          0 "
      ]
     },
     "metadata": {},
     "output_type": "display_data"
    }
   ],
   "source": [
    "head(day, 30)\n",
    "colSums(is.na(day))"
   ]
  },
  {
   "cell_type": "code",
   "execution_count": 5,
   "id": "006a60b7",
   "metadata": {},
   "outputs": [
    {
     "name": "stdout",
     "output_type": "stream",
     "text": [
      "'data.frame':\t731 obs. of  16 variables:\n",
      " $ instant   : int  1 2 3 4 5 6 7 8 9 10 ...\n",
      " $ dteday    : Date, format: \"2011-01-01\" \"2011-01-02\" ...\n",
      " $ season    : int  1 1 1 1 1 1 1 1 1 1 ...\n",
      " $ yr        : int  0 0 0 0 0 0 0 0 0 0 ...\n",
      " $ mnth      : int  1 1 1 1 1 1 1 1 1 1 ...\n",
      " $ holiday   : int  0 0 0 0 0 0 0 0 0 0 ...\n",
      " $ weekday   : int  6 0 1 2 3 4 5 6 0 1 ...\n",
      " $ workingday: int  0 0 1 1 1 1 1 0 0 1 ...\n",
      " $ weathersit: int  2 2 1 1 1 1 2 2 1 1 ...\n",
      " $ temp      : num  0.344 0.363 0.196 0.2 0.227 ...\n",
      " $ atemp     : num  0.364 0.354 0.189 0.212 0.229 ...\n",
      " $ hum       : num  0.806 0.696 0.437 0.59 0.437 ...\n",
      " $ windspeed : num  0.16 0.249 0.248 0.16 0.187 ...\n",
      " $ casual    : int  331 131 120 108 82 88 148 68 54 41 ...\n",
      " $ registered: int  654 670 1229 1454 1518 1518 1362 891 768 1280 ...\n",
      " $ cnt       : int  985 801 1349 1562 1600 1606 1510 959 822 1321 ...\n"
     ]
    }
   ],
   "source": [
    "str(day)"
   ]
  },
  {
   "cell_type": "markdown",
   "id": "d5b51006",
   "metadata": {},
   "source": [
    "The dateday column has been explicitly converted to date format, it was 'char' by default."
   ]
  },
  {
   "cell_type": "code",
   "execution_count": 6,
   "id": "f912d0d0",
   "metadata": {},
   "outputs": [
    {
     "data": {
      "text/html": [
       "<style>\n",
       ".list-inline {list-style: none; margin:0; padding: 0}\n",
       ".list-inline>li {display: inline-block}\n",
       ".list-inline>li:not(:last-child)::after {content: \"\\00b7\"; padding: 0 .5ex}\n",
       "</style>\n",
       "<ol class=list-inline><li>731</li><li>16</li></ol>\n"
      ],
      "text/latex": [
       "\\begin{enumerate*}\n",
       "\\item 731\n",
       "\\item 16\n",
       "\\end{enumerate*}\n"
      ],
      "text/markdown": [
       "1. 731\n",
       "2. 16\n",
       "\n",
       "\n"
      ],
      "text/plain": [
       "[1] 731  16"
      ]
     },
     "metadata": {},
     "output_type": "display_data"
    }
   ],
   "source": [
    "dim(day)"
   ]
  },
  {
   "cell_type": "code",
   "execution_count": 7,
   "id": "fde04cf1",
   "metadata": {},
   "outputs": [
    {
     "data": {
      "text/html": [
       "<style>\n",
       ".list-inline {list-style: none; margin:0; padding: 0}\n",
       ".list-inline>li {display: inline-block}\n",
       ".list-inline>li:not(:last-child)::after {content: \"\\00b7\"; padding: 0 .5ex}\n",
       "</style>\n",
       "<ol class=list-inline><li>14.110847</li><li>14.902598</li><li>8.050924</li><li>8.2</li><li>9.305237</li><li>8.378268</li></ol>\n"
      ],
      "text/latex": [
       "\\begin{enumerate*}\n",
       "\\item 14.110847\n",
       "\\item 14.902598\n",
       "\\item 8.050924\n",
       "\\item 8.2\n",
       "\\item 9.305237\n",
       "\\item 8.378268\n",
       "\\end{enumerate*}\n"
      ],
      "text/markdown": [
       "1. 14.110847\n",
       "2. 14.902598\n",
       "3. 8.050924\n",
       "4. 8.2\n",
       "5. 9.305237\n",
       "6. 8.378268\n",
       "\n",
       "\n"
      ],
      "text/plain": [
       "[1] 14.110847 14.902598  8.050924  8.200000  9.305237  8.378268"
      ]
     },
     "metadata": {},
     "output_type": "display_data"
    },
    {
     "data": {
      "text/html": [
       "<style>\n",
       ".list-inline {list-style: none; margin:0; padding: 0}\n",
       ".list-inline>li {display: inline-block}\n",
       ".list-inline>li:not(:last-child)::after {content: \"\\00b7\"; padding: 0 .5ex}\n",
       "</style>\n",
       "<ol class=list-inline><li>18.18125</li><li>17.68695</li><li>9.47025</li><li>10.6061</li><li>11.4635</li><li>11.66045</li></ol>\n"
      ],
      "text/latex": [
       "\\begin{enumerate*}\n",
       "\\item 18.18125\n",
       "\\item 17.68695\n",
       "\\item 9.47025\n",
       "\\item 10.6061\n",
       "\\item 11.4635\n",
       "\\item 11.66045\n",
       "\\end{enumerate*}\n"
      ],
      "text/markdown": [
       "1. 18.18125\n",
       "2. 17.68695\n",
       "3. 9.47025\n",
       "4. 10.6061\n",
       "5. 11.4635\n",
       "6. 11.66045\n",
       "\n",
       "\n"
      ],
      "text/plain": [
       "[1] 18.18125 17.68695  9.47025 10.60610 11.46350 11.66045"
      ]
     },
     "metadata": {},
     "output_type": "display_data"
    },
    {
     "data": {
      "text/html": [
       "<style>\n",
       ".list-inline {list-style: none; margin:0; padding: 0}\n",
       ".list-inline>li {display: inline-block}\n",
       ".list-inline>li:not(:last-child)::after {content: \"\\00b7\"; padding: 0 .5ex}\n",
       "</style>\n",
       "<ol class=list-inline><li>80.5833</li><li>69.6087</li><li>43.7273</li><li>59.0435</li><li>43.6957</li><li>51.8261</li></ol>\n"
      ],
      "text/latex": [
       "\\begin{enumerate*}\n",
       "\\item 80.5833\n",
       "\\item 69.6087\n",
       "\\item 43.7273\n",
       "\\item 59.0435\n",
       "\\item 43.6957\n",
       "\\item 51.8261\n",
       "\\end{enumerate*}\n"
      ],
      "text/markdown": [
       "1. 80.5833\n",
       "2. 69.6087\n",
       "3. 43.7273\n",
       "4. 59.0435\n",
       "5. 43.6957\n",
       "6. 51.8261\n",
       "\n",
       "\n"
      ],
      "text/plain": [
       "[1] 80.5833 69.6087 43.7273 59.0435 43.6957 51.8261"
      ]
     },
     "metadata": {},
     "output_type": "display_data"
    },
    {
     "data": {
      "text/html": [
       "<style>\n",
       ".list-inline {list-style: none; margin:0; padding: 0}\n",
       ".list-inline>li {display: inline-block}\n",
       ".list-inline>li:not(:last-child)::after {content: \"\\00b7\"; padding: 0 .5ex}\n",
       "</style>\n",
       "<ol class=list-inline><li>10.749882</li><li>16.652113</li><li>16.636703</li><li>10.739832</li><li>12.5223</li><li>6.0008684</li></ol>\n"
      ],
      "text/latex": [
       "\\begin{enumerate*}\n",
       "\\item 10.749882\n",
       "\\item 16.652113\n",
       "\\item 16.636703\n",
       "\\item 10.739832\n",
       "\\item 12.5223\n",
       "\\item 6.0008684\n",
       "\\end{enumerate*}\n"
      ],
      "text/markdown": [
       "1. 10.749882\n",
       "2. 16.652113\n",
       "3. 16.636703\n",
       "4. 10.739832\n",
       "5. 12.5223\n",
       "6. 6.0008684\n",
       "\n",
       "\n"
      ],
      "text/plain": [
       "[1] 10.749882 16.652113 16.636703 10.739832 12.522300  6.000868"
      ]
     },
     "metadata": {},
     "output_type": "display_data"
    }
   ],
   "source": [
    "day$rawtemp = day$temp*41 # converting temp to raw form from normalized form\n",
    "head(day)$rawtemp\n",
    "day$rawatemp = day$atemp*50 # converting atemp to raw form from normalized form\n",
    "head(day)$rawatemp\n",
    "day$rawhum = day$hum*100 # converting hum to raw form from normalized form\n",
    "head(day)$rawhum\n",
    "day$rawwindspeed = day$windspeed*67 # converting windspeed to raw form from normalized form\n",
    "head(day)$rawwindspeed"
   ]
  },
  {
   "cell_type": "code",
   "execution_count": 8,
   "id": "802f55f7",
   "metadata": {},
   "outputs": [
    {
     "data": {
      "image/png": "[encoded data removed]",
      "text/plain": [
       "Plot with title \"Normal Q-Q Plot\""
      ]
     },
     "metadata": {
      "image/png": {
       "height": 420,
       "width": 420
      }
     },
     "output_type": "display_data"
    }
   ],
   "source": [
    "qqnorm(day$rawtemp)\n",
    "qqline(day$rawtemp, col = \"red\")"
   ]
  },
  {
   "cell_type": "code",
   "execution_count": 9,
   "id": "53c54fc4",
   "metadata": {},
   "outputs": [
    {
     "data": {
      "image/png": "[encoded data removed]",
      "text/plain": [
       "Plot with title \"Normal Q-Q Plot\""
      ]
     },
     "metadata": {
      "image/png": {
       "height": 420,
       "width": 420
      }
     },
     "output_type": "display_data"
    }
   ],
   "source": [
    "qqnorm(day$rawhum)\n",
    "qqline(day$rawhum, col = \"red\")"
   ]
  },
  {
   "cell_type": "code",
   "execution_count": 10,
   "id": "800304f2",
   "metadata": {},
   "outputs": [
    {
     "data": {
      "image/png": "[encoded data removed]",
      "text/plain": [
       "plot without title"
      ]
     },
     "metadata": {
      "image/png": {
       "height": 420,
       "width": 420
      }
     },
     "output_type": "display_data"
    }
   ],
   "source": [
    "plot(day$rawtemp)\n",
    "options(repr.plot.width = 20, repr.plot.height = 10)"
   ]
  },
  {
   "cell_type": "code",
   "execution_count": 11,
   "id": "29db87ed",
   "metadata": {},
   "outputs": [
    {
     "name": "stderr",
     "output_type": "stream",
     "text": [
      "\n",
      "Attaching package: 'dplyr'\n",
      "\n",
      "\n",
      "The following objects are masked from 'package:stats':\n",
      "\n",
      "    filter, lag\n",
      "\n",
      "\n",
      "The following objects are masked from 'package:base':\n",
      "\n",
      "    intersect, setdiff, setequal, union\n",
      "\n",
      "\n"
     ]
    },
    {
     "data": {
      "image/png": "[encoded data removed]",
      "text/plain": [
       "plot without title"
      ]
     },
     "metadata": {
      "image/png": {
       "height": 600,
       "width": 1200
      }
     },
     "output_type": "display_data"
    }
   ],
   "source": [
    "library(dplyr)\n",
    "library(ggplot2)\n",
    "\n",
    "df <- day %>% \n",
    "    mutate(month_year = format(dteday, \"%Y-%m\")) %>% \n",
    "    select(month_year, rawtemp)\n",
    "\n",
    "# Calculate average temperature by month and year\n",
    "df_avg <- df %>% \n",
    "  group_by(month_year) %>% \n",
    "  summarise(avg_rawtemp = mean(rawtemp))\n",
    "\n",
    "\n",
    "# Plot the average temperature by month and year\n",
    "ggplot(df_avg, aes(x = month_year, y = avg_rawtemp)) + \n",
    "\n",
    "geom_point(size = 5) +\n",
    "\n",
    "labs(x = \"Month-Year\", y = \"Average Temperature (Celsius)\") +\n",
    "\n",
    "ggtitle(\"Average temp by month for both the years\") +\n",
    "\n",
    "theme(axis.title.x = element_text(size = 20), \n",
    "      axis.title.y = element_text(size = 20), \n",
    "      plot.title = element_text(size = 30))\n",
    "\n",
    "# options(repr.plot.width = 20, repr.plot.height = 10)"
   ]
  },
  {
   "cell_type": "markdown",
   "id": "cdacefba",
   "metadata": {},
   "source": [
    "# Hour csv"
   ]
  },
  {
   "cell_type": "code",
   "execution_count": 12,
   "id": "4f4f756a",
   "metadata": {},
   "outputs": [
    {
     "data": {
      "text/html": [
       "<table class=\"dataframe\">\n",
       "<caption>A data.frame: 6 × 17</caption>\n",
       "<thead>\n",
       "\t<tr><th></th><th scope=col>instant</th><th scope=col>dteday</th><th scope=col>season</th><th scope=col>yr</th><th scope=col>mnth</th><th scope=col>hr</th><th scope=col>holiday</th><th scope=col>weekday</th><th scope=col>workingday</th><th scope=col>weathersit</th><th scope=col>temp</th><th scope=col>atemp</th><th scope=col>hum</th><th scope=col>windspeed</th><th scope=col>casual</th><th scope=col>registered</th><th scope=col>cnt</th></tr>\n",
       "\t<tr><th></th><th scope=col>&lt;int&gt;</th><th scope=col>&lt;chr&gt;</th><th scope=col>&lt;int&gt;</th><th scope=col>&lt;int&gt;</th><th scope=col>&lt;int&gt;</th><th scope=col>&lt;int&gt;</th><th scope=col>&lt;int&gt;</th><th scope=col>&lt;int&gt;</th><th scope=col>&lt;int&gt;</th><th scope=col>&lt;int&gt;</th><th scope=col>&lt;dbl&gt;</th><th scope=col>&lt;dbl&gt;</th><th scope=col>&lt;dbl&gt;</th><th scope=col>&lt;dbl&gt;</th><th scope=col>&lt;int&gt;</th><th scope=col>&lt;int&gt;</th><th scope=col>&lt;int&gt;</th></tr>\n",
       "</thead>\n",
       "<tbody>\n",
       "\t<tr><th scope=row>1</th><td>1</td><td>2011-01-01</td><td>1</td><td>0</td><td>1</td><td>0</td><td>0</td><td>6</td><td>0</td><td>1</td><td>0.24</td><td>0.2879</td><td>0.81</td><td>0.0000</td><td>3</td><td>13</td><td>16</td></tr>\n",
       "\t<tr><th scope=row>2</th><td>2</td><td>2011-01-01</td><td>1</td><td>0</td><td>1</td><td>1</td><td>0</td><td>6</td><td>0</td><td>1</td><td>0.22</td><td>0.2727</td><td>0.80</td><td>0.0000</td><td>8</td><td>32</td><td>40</td></tr>\n",
       "\t<tr><th scope=row>3</th><td>3</td><td>2011-01-01</td><td>1</td><td>0</td><td>1</td><td>2</td><td>0</td><td>6</td><td>0</td><td>1</td><td>0.22</td><td>0.2727</td><td>0.80</td><td>0.0000</td><td>5</td><td>27</td><td>32</td></tr>\n",
       "\t<tr><th scope=row>4</th><td>4</td><td>2011-01-01</td><td>1</td><td>0</td><td>1</td><td>3</td><td>0</td><td>6</td><td>0</td><td>1</td><td>0.24</td><td>0.2879</td><td>0.75</td><td>0.0000</td><td>3</td><td>10</td><td>13</td></tr>\n",
       "\t<tr><th scope=row>5</th><td>5</td><td>2011-01-01</td><td>1</td><td>0</td><td>1</td><td>4</td><td>0</td><td>6</td><td>0</td><td>1</td><td>0.24</td><td>0.2879</td><td>0.75</td><td>0.0000</td><td>0</td><td> 1</td><td> 1</td></tr>\n",
       "\t<tr><th scope=row>6</th><td>6</td><td>2011-01-01</td><td>1</td><td>0</td><td>1</td><td>5</td><td>0</td><td>6</td><td>0</td><td>2</td><td>0.24</td><td>0.2576</td><td>0.75</td><td>0.0896</td><td>0</td><td> 1</td><td> 1</td></tr>\n",
       "</tbody>\n",
       "</table>\n"
      ],
      "text/latex": [
       "A data.frame: 6 × 17\n",
       "\\begin{tabular}{r|lllllllllllllllll}\n",
       "  & instant & dteday & season & yr & mnth & hr & holiday & weekday & workingday & weathersit & temp & atemp & hum & windspeed & casual & registered & cnt\\\\\n",
       "  & <int> & <chr> & <int> & <int> & <int> & <int> & <int> & <int> & <int> & <int> & <dbl> & <dbl> & <dbl> & <dbl> & <int> & <int> & <int>\\\\\n",
       "\\hline\n",
       "\t1 & 1 & 2011-01-01 & 1 & 0 & 1 & 0 & 0 & 6 & 0 & 1 & 0.24 & 0.2879 & 0.81 & 0.0000 & 3 & 13 & 16\\\\\n",
       "\t2 & 2 & 2011-01-01 & 1 & 0 & 1 & 1 & 0 & 6 & 0 & 1 & 0.22 & 0.2727 & 0.80 & 0.0000 & 8 & 32 & 40\\\\\n",
       "\t3 & 3 & 2011-01-01 & 1 & 0 & 1 & 2 & 0 & 6 & 0 & 1 & 0.22 & 0.2727 & 0.80 & 0.0000 & 5 & 27 & 32\\\\\n",
       "\t4 & 4 & 2011-01-01 & 1 & 0 & 1 & 3 & 0 & 6 & 0 & 1 & 0.24 & 0.2879 & 0.75 & 0.0000 & 3 & 10 & 13\\\\\n",
       "\t5 & 5 & 2011-01-01 & 1 & 0 & 1 & 4 & 0 & 6 & 0 & 1 & 0.24 & 0.2879 & 0.75 & 0.0000 & 0 &  1 &  1\\\\\n",
       "\t6 & 6 & 2011-01-01 & 1 & 0 & 1 & 5 & 0 & 6 & 0 & 2 & 0.24 & 0.2576 & 0.75 & 0.0896 & 0 &  1 &  1\\\\\n",
       "\\end{tabular}\n"
      ],
      "text/markdown": [
       "\n",
       "A data.frame: 6 × 17\n",
       "\n",
       "| <!--/--> | instant &lt;int&gt; | dteday &lt;chr&gt; | season &lt;int&gt; | yr &lt;int&gt; | mnth &lt;int&gt; | hr &lt;int&gt; | holiday &lt;int&gt; | weekday &lt;int&gt; | workingday &lt;int&gt; | weathersit &lt;int&gt; | temp &lt;dbl&gt; | atemp &lt;dbl&gt; | hum &lt;dbl&gt; | windspeed &lt;dbl&gt; | casual &lt;int&gt; | registered &lt;int&gt; | cnt &lt;int&gt; |\n",
       "|---|---|---|---|---|---|---|---|---|---|---|---|---|---|---|---|---|---|\n",
       "| 1 | 1 | 2011-01-01 | 1 | 0 | 1 | 0 | 0 | 6 | 0 | 1 | 0.24 | 0.2879 | 0.81 | 0.0000 | 3 | 13 | 16 |\n",
       "| 2 | 2 | 2011-01-01 | 1 | 0 | 1 | 1 | 0 | 6 | 0 | 1 | 0.22 | 0.2727 | 0.80 | 0.0000 | 8 | 32 | 40 |\n",
       "| 3 | 3 | 2011-01-01 | 1 | 0 | 1 | 2 | 0 | 6 | 0 | 1 | 0.22 | 0.2727 | 0.80 | 0.0000 | 5 | 27 | 32 |\n",
       "| 4 | 4 | 2011-01-01 | 1 | 0 | 1 | 3 | 0 | 6 | 0 | 1 | 0.24 | 0.2879 | 0.75 | 0.0000 | 3 | 10 | 13 |\n",
       "| 5 | 5 | 2011-01-01 | 1 | 0 | 1 | 4 | 0 | 6 | 0 | 1 | 0.24 | 0.2879 | 0.75 | 0.0000 | 0 |  1 |  1 |\n",
       "| 6 | 6 | 2011-01-01 | 1 | 0 | 1 | 5 | 0 | 6 | 0 | 2 | 0.24 | 0.2576 | 0.75 | 0.0896 | 0 |  1 |  1 |\n",
       "\n"
      ],
      "text/plain": [
       "  instant dteday     season yr mnth hr holiday weekday workingday weathersit\n",
       "1 1       2011-01-01 1      0  1    0  0       6       0          1         \n",
       "2 2       2011-01-01 1      0  1    1  0       6       0          1         \n",
       "3 3       2011-01-01 1      0  1    2  0       6       0          1         \n",
       "4 4       2011-01-01 1      0  1    3  0       6       0          1         \n",
       "5 5       2011-01-01 1      0  1    4  0       6       0          1         \n",
       "6 6       2011-01-01 1      0  1    5  0       6       0          2         \n",
       "  temp atemp  hum  windspeed casual registered cnt\n",
       "1 0.24 0.2879 0.81 0.0000    3      13         16 \n",
       "2 0.22 0.2727 0.80 0.0000    8      32         40 \n",
       "3 0.22 0.2727 0.80 0.0000    5      27         32 \n",
       "4 0.24 0.2879 0.75 0.0000    3      10         13 \n",
       "5 0.24 0.2879 0.75 0.0000    0       1          1 \n",
       "6 0.24 0.2576 0.75 0.0896    0       1          1 "
      ]
     },
     "metadata": {},
     "output_type": "display_data"
    }
   ],
   "source": [
    "hour = read.csv(\"Bike-Sharing-Dataset//hour.csv\", header = TRUE)\n",
    "head(hour)"
   ]
  },
  {
   "cell_type": "code",
   "execution_count": 13,
   "id": "57d1e1e2",
   "metadata": {},
   "outputs": [
    {
     "data": {
      "text/html": [
       "<style>\n",
       ".dl-inline {width: auto; margin:0; padding: 0}\n",
       ".dl-inline>dt, .dl-inline>dd {float: none; width: auto; display: inline-block}\n",
       ".dl-inline>dt::after {content: \":\\0020\"; padding-right: .5ex}\n",
       ".dl-inline>dt:not(:first-of-type) {padding-left: .5ex}\n",
       "</style><dl class=dl-inline><dt>instant</dt><dd>0</dd><dt>dteday</dt><dd>0</dd><dt>season</dt><dd>0</dd><dt>yr</dt><dd>0</dd><dt>mnth</dt><dd>0</dd><dt>hr</dt><dd>0</dd><dt>holiday</dt><dd>0</dd><dt>weekday</dt><dd>0</dd><dt>workingday</dt><dd>0</dd><dt>weathersit</dt><dd>0</dd><dt>temp</dt><dd>0</dd><dt>atemp</dt><dd>0</dd><dt>hum</dt><dd>0</dd><dt>windspeed</dt><dd>0</dd><dt>casual</dt><dd>0</dd><dt>registered</dt><dd>0</dd><dt>cnt</dt><dd>0</dd></dl>\n"
      ],
      "text/latex": [
       "\\begin{description*}\n",
       "\\item[instant] 0\n",
       "\\item[dteday] 0\n",
       "\\item[season] 0\n",
       "\\item[yr] 0\n",
       "\\item[mnth] 0\n",
       "\\item[hr] 0\n",
       "\\item[holiday] 0\n",
       "\\item[weekday] 0\n",
       "\\item[workingday] 0\n",
       "\\item[weathersit] 0\n",
       "\\item[temp] 0\n",
       "\\item[atemp] 0\n",
       "\\item[hum] 0\n",
       "\\item[windspeed] 0\n",
       "\\item[casual] 0\n",
       "\\item[registered] 0\n",
       "\\item[cnt] 0\n",
       "\\end{description*}\n"
      ],
      "text/markdown": [
       "instant\n",
       ":   0dteday\n",
       ":   0season\n",
       ":   0yr\n",
       ":   0mnth\n",
       ":   0hr\n",
       ":   0holiday\n",
       ":   0weekday\n",
       ":   0workingday\n",
       ":   0weathersit\n",
       ":   0temp\n",
       ":   0atemp\n",
       ":   0hum\n",
       ":   0windspeed\n",
       ":   0casual\n",
       ":   0registered\n",
       ":   0cnt\n",
       ":   0\n",
       "\n"
      ],
      "text/plain": [
       "   instant     dteday     season         yr       mnth         hr    holiday \n",
       "         0          0          0          0          0          0          0 \n",
       "   weekday workingday weathersit       temp      atemp        hum  windspeed \n",
       "         0          0          0          0          0          0          0 \n",
       "    casual registered        cnt \n",
       "         0          0          0 "
      ]
     },
     "metadata": {},
     "output_type": "display_data"
    }
   ],
   "source": [
    "colSums(is.na(hour))"
   ]
  },
  {
   "cell_type": "code",
   "execution_count": 14,
   "id": "82e69b7f",
   "metadata": {},
   "outputs": [
    {
     "data": {
      "text/html": [
       "<table class=\"dataframe\">\n",
       "<caption>A data.frame: 6 × 17</caption>\n",
       "<thead>\n",
       "\t<tr><th></th><th scope=col>instant</th><th scope=col>dteday</th><th scope=col>season</th><th scope=col>yr</th><th scope=col>mnth</th><th scope=col>hr</th><th scope=col>holiday</th><th scope=col>weekday</th><th scope=col>workingday</th><th scope=col>weathersit</th><th scope=col>temp</th><th scope=col>atemp</th><th scope=col>hum</th><th scope=col>windspeed</th><th scope=col>casual</th><th scope=col>registered</th><th scope=col>cnt</th></tr>\n",
       "\t<tr><th></th><th scope=col>&lt;int&gt;</th><th scope=col>&lt;date&gt;</th><th scope=col>&lt;int&gt;</th><th scope=col>&lt;int&gt;</th><th scope=col>&lt;int&gt;</th><th scope=col>&lt;int&gt;</th><th scope=col>&lt;int&gt;</th><th scope=col>&lt;int&gt;</th><th scope=col>&lt;int&gt;</th><th scope=col>&lt;int&gt;</th><th scope=col>&lt;dbl&gt;</th><th scope=col>&lt;dbl&gt;</th><th scope=col>&lt;dbl&gt;</th><th scope=col>&lt;dbl&gt;</th><th scope=col>&lt;int&gt;</th><th scope=col>&lt;int&gt;</th><th scope=col>&lt;int&gt;</th></tr>\n",
       "</thead>\n",
       "<tbody>\n",
       "\t<tr><th scope=row>1</th><td>1</td><td>2011-01-01</td><td>1</td><td>0</td><td>1</td><td>0</td><td>0</td><td>6</td><td>0</td><td>1</td><td>0.24</td><td>0.2879</td><td>0.81</td><td>0.0000</td><td>3</td><td>13</td><td>16</td></tr>\n",
       "\t<tr><th scope=row>2</th><td>2</td><td>2011-01-01</td><td>1</td><td>0</td><td>1</td><td>1</td><td>0</td><td>6</td><td>0</td><td>1</td><td>0.22</td><td>0.2727</td><td>0.80</td><td>0.0000</td><td>8</td><td>32</td><td>40</td></tr>\n",
       "\t<tr><th scope=row>3</th><td>3</td><td>2011-01-01</td><td>1</td><td>0</td><td>1</td><td>2</td><td>0</td><td>6</td><td>0</td><td>1</td><td>0.22</td><td>0.2727</td><td>0.80</td><td>0.0000</td><td>5</td><td>27</td><td>32</td></tr>\n",
       "\t<tr><th scope=row>4</th><td>4</td><td>2011-01-01</td><td>1</td><td>0</td><td>1</td><td>3</td><td>0</td><td>6</td><td>0</td><td>1</td><td>0.24</td><td>0.2879</td><td>0.75</td><td>0.0000</td><td>3</td><td>10</td><td>13</td></tr>\n",
       "\t<tr><th scope=row>5</th><td>5</td><td>2011-01-01</td><td>1</td><td>0</td><td>1</td><td>4</td><td>0</td><td>6</td><td>0</td><td>1</td><td>0.24</td><td>0.2879</td><td>0.75</td><td>0.0000</td><td>0</td><td> 1</td><td> 1</td></tr>\n",
       "\t<tr><th scope=row>6</th><td>6</td><td>2011-01-01</td><td>1</td><td>0</td><td>1</td><td>5</td><td>0</td><td>6</td><td>0</td><td>2</td><td>0.24</td><td>0.2576</td><td>0.75</td><td>0.0896</td><td>0</td><td> 1</td><td> 1</td></tr>\n",
       "</tbody>\n",
       "</table>\n"
      ],
      "text/latex": [
       "A data.frame: 6 × 17\n",
       "\\begin{tabular}{r|lllllllllllllllll}\n",
       "  & instant & dteday & season & yr & mnth & hr & holiday & weekday & workingday & weathersit & temp & atemp & hum & windspeed & casual & registered & cnt\\\\\n",
       "  & <int> & <date> & <int> & <int> & <int> & <int> & <int> & <int> & <int> & <int> & <dbl> & <dbl> & <dbl> & <dbl> & <int> & <int> & <int>\\\\\n",
       "\\hline\n",
       "\t1 & 1 & 2011-01-01 & 1 & 0 & 1 & 0 & 0 & 6 & 0 & 1 & 0.24 & 0.2879 & 0.81 & 0.0000 & 3 & 13 & 16\\\\\n",
       "\t2 & 2 & 2011-01-01 & 1 & 0 & 1 & 1 & 0 & 6 & 0 & 1 & 0.22 & 0.2727 & 0.80 & 0.0000 & 8 & 32 & 40\\\\\n",
       "\t3 & 3 & 2011-01-01 & 1 & 0 & 1 & 2 & 0 & 6 & 0 & 1 & 0.22 & 0.2727 & 0.80 & 0.0000 & 5 & 27 & 32\\\\\n",
       "\t4 & 4 & 2011-01-01 & 1 & 0 & 1 & 3 & 0 & 6 & 0 & 1 & 0.24 & 0.2879 & 0.75 & 0.0000 & 3 & 10 & 13\\\\\n",
       "\t5 & 5 & 2011-01-01 & 1 & 0 & 1 & 4 & 0 & 6 & 0 & 1 & 0.24 & 0.2879 & 0.75 & 0.0000 & 0 &  1 &  1\\\\\n",
       "\t6 & 6 & 2011-01-01 & 1 & 0 & 1 & 5 & 0 & 6 & 0 & 2 & 0.24 & 0.2576 & 0.75 & 0.0896 & 0 &  1 &  1\\\\\n",
       "\\end{tabular}\n"
      ],
      "text/markdown": [
       "\n",
       "A data.frame: 6 × 17\n",
       "\n",
       "| <!--/--> | instant &lt;int&gt; | dteday &lt;date&gt; | season &lt;int&gt; | yr &lt;int&gt; | mnth &lt;int&gt; | hr &lt;int&gt; | holiday &lt;int&gt; | weekday &lt;int&gt; | workingday &lt;int&gt; | weathersit &lt;int&gt; | temp &lt;dbl&gt; | atemp &lt;dbl&gt; | hum &lt;dbl&gt; | windspeed &lt;dbl&gt; | casual &lt;int&gt; | registered &lt;int&gt; | cnt &lt;int&gt; |\n",
       "|---|---|---|---|---|---|---|---|---|---|---|---|---|---|---|---|---|---|\n",
       "| 1 | 1 | 2011-01-01 | 1 | 0 | 1 | 0 | 0 | 6 | 0 | 1 | 0.24 | 0.2879 | 0.81 | 0.0000 | 3 | 13 | 16 |\n",
       "| 2 | 2 | 2011-01-01 | 1 | 0 | 1 | 1 | 0 | 6 | 0 | 1 | 0.22 | 0.2727 | 0.80 | 0.0000 | 8 | 32 | 40 |\n",
       "| 3 | 3 | 2011-01-01 | 1 | 0 | 1 | 2 | 0 | 6 | 0 | 1 | 0.22 | 0.2727 | 0.80 | 0.0000 | 5 | 27 | 32 |\n",
       "| 4 | 4 | 2011-01-01 | 1 | 0 | 1 | 3 | 0 | 6 | 0 | 1 | 0.24 | 0.2879 | 0.75 | 0.0000 | 3 | 10 | 13 |\n",
       "| 5 | 5 | 2011-01-01 | 1 | 0 | 1 | 4 | 0 | 6 | 0 | 1 | 0.24 | 0.2879 | 0.75 | 0.0000 | 0 |  1 |  1 |\n",
       "| 6 | 6 | 2011-01-01 | 1 | 0 | 1 | 5 | 0 | 6 | 0 | 2 | 0.24 | 0.2576 | 0.75 | 0.0896 | 0 |  1 |  1 |\n",
       "\n"
      ],
      "text/plain": [
       "  instant dteday     season yr mnth hr holiday weekday workingday weathersit\n",
       "1 1       2011-01-01 1      0  1    0  0       6       0          1         \n",
       "2 2       2011-01-01 1      0  1    1  0       6       0          1         \n",
       "3 3       2011-01-01 1      0  1    2  0       6       0          1         \n",
       "4 4       2011-01-01 1      0  1    3  0       6       0          1         \n",
       "5 5       2011-01-01 1      0  1    4  0       6       0          1         \n",
       "6 6       2011-01-01 1      0  1    5  0       6       0          2         \n",
       "  temp atemp  hum  windspeed casual registered cnt\n",
       "1 0.24 0.2879 0.81 0.0000    3      13         16 \n",
       "2 0.22 0.2727 0.80 0.0000    8      32         40 \n",
       "3 0.22 0.2727 0.80 0.0000    5      27         32 \n",
       "4 0.24 0.2879 0.75 0.0000    3      10         13 \n",
       "5 0.24 0.2879 0.75 0.0000    0       1          1 \n",
       "6 0.24 0.2576 0.75 0.0896    0       1          1 "
      ]
     },
     "metadata": {},
     "output_type": "display_data"
    }
   ],
   "source": [
    "hour$dteday = as.Date(hour$dteday, format = \"%Y-%m-%d\") # converting 'dteday' column to date\n",
    "head(hour)"
   ]
  },
  {
   "cell_type": "code",
   "execution_count": 15,
   "id": "27a7b64a",
   "metadata": {},
   "outputs": [
    {
     "data": {
      "text/html": [
       "<table class=\"dataframe\">\n",
       "<caption>A data.frame: 6 × 17</caption>\n",
       "<thead>\n",
       "\t<tr><th></th><th scope=col>instant</th><th scope=col>dteday</th><th scope=col>season</th><th scope=col>yr</th><th scope=col>mnth</th><th scope=col>hr</th><th scope=col>holiday</th><th scope=col>weekday</th><th scope=col>workingday</th><th scope=col>weathersit</th><th scope=col>temp</th><th scope=col>atemp</th><th scope=col>hum</th><th scope=col>windspeed</th><th scope=col>casual</th><th scope=col>registered</th><th scope=col>cnt</th></tr>\n",
       "\t<tr><th></th><th scope=col>&lt;int&gt;</th><th scope=col>&lt;date&gt;</th><th scope=col>&lt;int&gt;</th><th scope=col>&lt;int&gt;</th><th scope=col>&lt;int&gt;</th><th scope=col>&lt;int&gt;</th><th scope=col>&lt;int&gt;</th><th scope=col>&lt;int&gt;</th><th scope=col>&lt;int&gt;</th><th scope=col>&lt;int&gt;</th><th scope=col>&lt;dbl&gt;</th><th scope=col>&lt;dbl&gt;</th><th scope=col>&lt;dbl&gt;</th><th scope=col>&lt;dbl&gt;</th><th scope=col>&lt;int&gt;</th><th scope=col>&lt;int&gt;</th><th scope=col>&lt;int&gt;</th></tr>\n",
       "</thead>\n",
       "<tbody>\n",
       "\t<tr><th scope=row>1</th><td>1</td><td>2011-01-01</td><td>1</td><td>0</td><td>1</td><td>0</td><td>0</td><td>6</td><td>0</td><td>1</td><td>0.24</td><td>0.2879</td><td>0.81</td><td>0.0000</td><td>3</td><td>13</td><td>16</td></tr>\n",
       "\t<tr><th scope=row>2</th><td>2</td><td>2011-01-01</td><td>1</td><td>0</td><td>1</td><td>1</td><td>0</td><td>6</td><td>0</td><td>1</td><td>0.22</td><td>0.2727</td><td>0.80</td><td>0.0000</td><td>8</td><td>32</td><td>40</td></tr>\n",
       "\t<tr><th scope=row>3</th><td>3</td><td>2011-01-01</td><td>1</td><td>0</td><td>1</td><td>2</td><td>0</td><td>6</td><td>0</td><td>1</td><td>0.22</td><td>0.2727</td><td>0.80</td><td>0.0000</td><td>5</td><td>27</td><td>32</td></tr>\n",
       "\t<tr><th scope=row>4</th><td>4</td><td>2011-01-01</td><td>1</td><td>0</td><td>1</td><td>3</td><td>0</td><td>6</td><td>0</td><td>1</td><td>0.24</td><td>0.2879</td><td>0.75</td><td>0.0000</td><td>3</td><td>10</td><td>13</td></tr>\n",
       "\t<tr><th scope=row>5</th><td>5</td><td>2011-01-01</td><td>1</td><td>0</td><td>1</td><td>4</td><td>0</td><td>6</td><td>0</td><td>1</td><td>0.24</td><td>0.2879</td><td>0.75</td><td>0.0000</td><td>0</td><td> 1</td><td> 1</td></tr>\n",
       "\t<tr><th scope=row>6</th><td>6</td><td>2011-01-01</td><td>1</td><td>0</td><td>1</td><td>5</td><td>0</td><td>6</td><td>0</td><td>2</td><td>0.24</td><td>0.2576</td><td>0.75</td><td>0.0896</td><td>0</td><td> 1</td><td> 1</td></tr>\n",
       "</tbody>\n",
       "</table>\n"
      ],
      "text/latex": [
       "A data.frame: 6 × 17\n",
       "\\begin{tabular}{r|lllllllllllllllll}\n",
       "  & instant & dteday & season & yr & mnth & hr & holiday & weekday & workingday & weathersit & temp & atemp & hum & windspeed & casual & registered & cnt\\\\\n",
       "  & <int> & <date> & <int> & <int> & <int> & <int> & <int> & <int> & <int> & <int> & <dbl> & <dbl> & <dbl> & <dbl> & <int> & <int> & <int>\\\\\n",
       "\\hline\n",
       "\t1 & 1 & 2011-01-01 & 1 & 0 & 1 & 0 & 0 & 6 & 0 & 1 & 0.24 & 0.2879 & 0.81 & 0.0000 & 3 & 13 & 16\\\\\n",
       "\t2 & 2 & 2011-01-01 & 1 & 0 & 1 & 1 & 0 & 6 & 0 & 1 & 0.22 & 0.2727 & 0.80 & 0.0000 & 8 & 32 & 40\\\\\n",
       "\t3 & 3 & 2011-01-01 & 1 & 0 & 1 & 2 & 0 & 6 & 0 & 1 & 0.22 & 0.2727 & 0.80 & 0.0000 & 5 & 27 & 32\\\\\n",
       "\t4 & 4 & 2011-01-01 & 1 & 0 & 1 & 3 & 0 & 6 & 0 & 1 & 0.24 & 0.2879 & 0.75 & 0.0000 & 3 & 10 & 13\\\\\n",
       "\t5 & 5 & 2011-01-01 & 1 & 0 & 1 & 4 & 0 & 6 & 0 & 1 & 0.24 & 0.2879 & 0.75 & 0.0000 & 0 &  1 &  1\\\\\n",
       "\t6 & 6 & 2011-01-01 & 1 & 0 & 1 & 5 & 0 & 6 & 0 & 2 & 0.24 & 0.2576 & 0.75 & 0.0896 & 0 &  1 &  1\\\\\n",
       "\\end{tabular}\n"
      ],
      "text/markdown": [
       "\n",
       "A data.frame: 6 × 17\n",
       "\n",
       "| <!--/--> | instant &lt;int&gt; | dteday &lt;date&gt; | season &lt;int&gt; | yr &lt;int&gt; | mnth &lt;int&gt; | hr &lt;int&gt; | holiday &lt;int&gt; | weekday &lt;int&gt; | workingday &lt;int&gt; | weathersit &lt;int&gt; | temp &lt;dbl&gt; | atemp &lt;dbl&gt; | hum &lt;dbl&gt; | windspeed &lt;dbl&gt; | casual &lt;int&gt; | registered &lt;int&gt; | cnt &lt;int&gt; |\n",
       "|---|---|---|---|---|---|---|---|---|---|---|---|---|---|---|---|---|---|\n",
       "| 1 | 1 | 2011-01-01 | 1 | 0 | 1 | 0 | 0 | 6 | 0 | 1 | 0.24 | 0.2879 | 0.81 | 0.0000 | 3 | 13 | 16 |\n",
       "| 2 | 2 | 2011-01-01 | 1 | 0 | 1 | 1 | 0 | 6 | 0 | 1 | 0.22 | 0.2727 | 0.80 | 0.0000 | 8 | 32 | 40 |\n",
       "| 3 | 3 | 2011-01-01 | 1 | 0 | 1 | 2 | 0 | 6 | 0 | 1 | 0.22 | 0.2727 | 0.80 | 0.0000 | 5 | 27 | 32 |\n",
       "| 4 | 4 | 2011-01-01 | 1 | 0 | 1 | 3 | 0 | 6 | 0 | 1 | 0.24 | 0.2879 | 0.75 | 0.0000 | 3 | 10 | 13 |\n",
       "| 5 | 5 | 2011-01-01 | 1 | 0 | 1 | 4 | 0 | 6 | 0 | 1 | 0.24 | 0.2879 | 0.75 | 0.0000 | 0 |  1 |  1 |\n",
       "| 6 | 6 | 2011-01-01 | 1 | 0 | 1 | 5 | 0 | 6 | 0 | 2 | 0.24 | 0.2576 | 0.75 | 0.0896 | 0 |  1 |  1 |\n",
       "\n"
      ],
      "text/plain": [
       "  instant dteday     season yr mnth hr holiday weekday workingday weathersit\n",
       "1 1       2011-01-01 1      0  1    0  0       6       0          1         \n",
       "2 2       2011-01-01 1      0  1    1  0       6       0          1         \n",
       "3 3       2011-01-01 1      0  1    2  0       6       0          1         \n",
       "4 4       2011-01-01 1      0  1    3  0       6       0          1         \n",
       "5 5       2011-01-01 1      0  1    4  0       6       0          1         \n",
       "6 6       2011-01-01 1      0  1    5  0       6       0          2         \n",
       "  temp atemp  hum  windspeed casual registered cnt\n",
       "1 0.24 0.2879 0.81 0.0000    3      13         16 \n",
       "2 0.22 0.2727 0.80 0.0000    8      32         40 \n",
       "3 0.22 0.2727 0.80 0.0000    5      27         32 \n",
       "4 0.24 0.2879 0.75 0.0000    3      10         13 \n",
       "5 0.24 0.2879 0.75 0.0000    0       1          1 \n",
       "6 0.24 0.2576 0.75 0.0896    0       1          1 "
      ]
     },
     "metadata": {},
     "output_type": "display_data"
    }
   ],
   "source": [
    "hour$dteday = as.Date(hour$dteday, format = \"%Y-%m-%d\") # converting 'dteday' column to date\n",
    "head(hour)"
   ]
  },
  {
   "cell_type": "code",
   "execution_count": 16,
   "id": "2db26ea1",
   "metadata": {},
   "outputs": [
    {
     "name": "stdout",
     "output_type": "stream",
     "text": [
      "'data.frame':\t17379 obs. of  17 variables:\n",
      " $ instant   : int  1 2 3 4 5 6 7 8 9 10 ...\n",
      " $ dteday    : Date, format: \"2011-01-01\" \"2011-01-01\" ...\n",
      " $ season    : int  1 1 1 1 1 1 1 1 1 1 ...\n",
      " $ yr        : int  0 0 0 0 0 0 0 0 0 0 ...\n",
      " $ mnth      : int  1 1 1 1 1 1 1 1 1 1 ...\n",
      " $ hr        : int  0 1 2 3 4 5 6 7 8 9 ...\n",
      " $ holiday   : int  0 0 0 0 0 0 0 0 0 0 ...\n",
      " $ weekday   : int  6 6 6 6 6 6 6 6 6 6 ...\n",
      " $ workingday: int  0 0 0 0 0 0 0 0 0 0 ...\n",
      " $ weathersit: int  1 1 1 1 1 2 1 1 1 1 ...\n",
      " $ temp      : num  0.24 0.22 0.22 0.24 0.24 0.24 0.22 0.2 0.24 0.32 ...\n",
      " $ atemp     : num  0.288 0.273 0.273 0.288 0.288 ...\n",
      " $ hum       : num  0.81 0.8 0.8 0.75 0.75 0.75 0.8 0.86 0.75 0.76 ...\n",
      " $ windspeed : num  0 0 0 0 0 0.0896 0 0 0 0 ...\n",
      " $ casual    : int  3 8 5 3 0 0 2 1 1 8 ...\n",
      " $ registered: int  13 32 27 10 1 1 0 2 7 6 ...\n",
      " $ cnt       : int  16 40 32 13 1 1 2 3 8 14 ...\n"
     ]
    }
   ],
   "source": [
    "str(hour)"
   ]
  },
  {
   "cell_type": "code",
   "execution_count": 17,
   "id": "1b1bedd3",
   "metadata": {},
   "outputs": [
    {
     "data": {
      "text/html": [
       "<style>\n",
       ".list-inline {list-style: none; margin:0; padding: 0}\n",
       ".list-inline>li {display: inline-block}\n",
       ".list-inline>li:not(:last-child)::after {content: \"\\00b7\"; padding: 0 .5ex}\n",
       "</style>\n",
       "<ol class=list-inline><li>17379</li><li>17</li></ol>\n"
      ],
      "text/latex": [
       "\\begin{enumerate*}\n",
       "\\item 17379\n",
       "\\item 17\n",
       "\\end{enumerate*}\n"
      ],
      "text/markdown": [
       "1. 17379\n",
       "2. 17\n",
       "\n",
       "\n"
      ],
      "text/plain": [
       "[1] 17379    17"
      ]
     },
     "metadata": {},
     "output_type": "display_data"
    }
   ],
   "source": [
    "dim(hour)"
   ]
  },
  {
   "cell_type": "code",
   "execution_count": 18,
   "id": "ef0850c4",
   "metadata": {},
   "outputs": [
    {
     "data": {
      "text/html": [
       "<style>\n",
       ".list-inline {list-style: none; margin:0; padding: 0}\n",
       ".list-inline>li {display: inline-block}\n",
       ".list-inline>li:not(:last-child)::after {content: \"\\00b7\"; padding: 0 .5ex}\n",
       "</style>\n",
       "<ol class=list-inline><li>9.84</li><li>9.02</li><li>9.02</li><li>9.84</li><li>9.84</li><li>9.84</li></ol>\n"
      ],
      "text/latex": [
       "\\begin{enumerate*}\n",
       "\\item 9.84\n",
       "\\item 9.02\n",
       "\\item 9.02\n",
       "\\item 9.84\n",
       "\\item 9.84\n",
       "\\item 9.84\n",
       "\\end{enumerate*}\n"
      ],
      "text/markdown": [
       "1. 9.84\n",
       "2. 9.02\n",
       "3. 9.02\n",
       "4. 9.84\n",
       "5. 9.84\n",
       "6. 9.84\n",
       "\n",
       "\n"
      ],
      "text/plain": [
       "[1] 9.84 9.02 9.02 9.84 9.84 9.84"
      ]
     },
     "metadata": {},
     "output_type": "display_data"
    },
    {
     "data": {
      "text/html": [
       "<style>\n",
       ".list-inline {list-style: none; margin:0; padding: 0}\n",
       ".list-inline>li {display: inline-block}\n",
       ".list-inline>li:not(:last-child)::after {content: \"\\00b7\"; padding: 0 .5ex}\n",
       "</style>\n",
       "<ol class=list-inline><li>14.395</li><li>13.635</li><li>13.635</li><li>14.395</li><li>14.395</li><li>12.88</li></ol>\n"
      ],
      "text/latex": [
       "\\begin{enumerate*}\n",
       "\\item 14.395\n",
       "\\item 13.635\n",
       "\\item 13.635\n",
       "\\item 14.395\n",
       "\\item 14.395\n",
       "\\item 12.88\n",
       "\\end{enumerate*}\n"
      ],
      "text/markdown": [
       "1. 14.395\n",
       "2. 13.635\n",
       "3. 13.635\n",
       "4. 14.395\n",
       "5. 14.395\n",
       "6. 12.88\n",
       "\n",
       "\n"
      ],
      "text/plain": [
       "[1] 14.395 13.635 13.635 14.395 14.395 12.880"
      ]
     },
     "metadata": {},
     "output_type": "display_data"
    },
    {
     "data": {
      "text/html": [
       "<style>\n",
       ".list-inline {list-style: none; margin:0; padding: 0}\n",
       ".list-inline>li {display: inline-block}\n",
       ".list-inline>li:not(:last-child)::after {content: \"\\00b7\"; padding: 0 .5ex}\n",
       "</style>\n",
       "<ol class=list-inline><li>81</li><li>80</li><li>80</li><li>75</li><li>75</li><li>75</li></ol>\n"
      ],
      "text/latex": [
       "\\begin{enumerate*}\n",
       "\\item 81\n",
       "\\item 80\n",
       "\\item 80\n",
       "\\item 75\n",
       "\\item 75\n",
       "\\item 75\n",
       "\\end{enumerate*}\n"
      ],
      "text/markdown": [
       "1. 81\n",
       "2. 80\n",
       "3. 80\n",
       "4. 75\n",
       "5. 75\n",
       "6. 75\n",
       "\n",
       "\n"
      ],
      "text/plain": [
       "[1] 81 80 80 75 75 75"
      ]
     },
     "metadata": {},
     "output_type": "display_data"
    },
    {
     "data": {
      "text/html": [
       "<style>\n",
       ".list-inline {list-style: none; margin:0; padding: 0}\n",
       ".list-inline>li {display: inline-block}\n",
       ".list-inline>li:not(:last-child)::after {content: \"\\00b7\"; padding: 0 .5ex}\n",
       "</style>\n",
       "<ol class=list-inline><li>0</li><li>0</li><li>0</li><li>0</li><li>0</li><li>6.0032</li></ol>\n"
      ],
      "text/latex": [
       "\\begin{enumerate*}\n",
       "\\item 0\n",
       "\\item 0\n",
       "\\item 0\n",
       "\\item 0\n",
       "\\item 0\n",
       "\\item 6.0032\n",
       "\\end{enumerate*}\n"
      ],
      "text/markdown": [
       "1. 0\n",
       "2. 0\n",
       "3. 0\n",
       "4. 0\n",
       "5. 0\n",
       "6. 6.0032\n",
       "\n",
       "\n"
      ],
      "text/plain": [
       "[1] 0.0000 0.0000 0.0000 0.0000 0.0000 6.0032"
      ]
     },
     "metadata": {},
     "output_type": "display_data"
    }
   ],
   "source": [
    "hour$rawtemp = hour$temp*41 # converting temp to raw form from normalized form\n",
    "head(hour)$rawtemp\n",
    "hour$rawatemp = hour$atemp*50 # converting atemp to raw form from normalized form\n",
    "head(hour)$rawatemp\n",
    "hour$rawhum = hour$hum*100 # converting atemp to raw form from normalized form\n",
    "head(hour)$rawhum\n",
    "hour$rawwindspeed = hour$windspeed*67 # converting atemp to raw form from normalized form\n",
    "head(hour)$rawwindspeed"
   ]
  },
  {
   "cell_type": "code",
   "execution_count": null,
   "id": "f433593c",
   "metadata": {},
   "outputs": [],
   "source": []
  }
 ],
 "metadata": {
  "kernelspec": {
   "display_name": "R",
   "language": "R",
   "name": "ir"
  },
  "language_info": {
   "codemirror_mode": "r",
   "file_extension": ".r",
   "mimetype": "text/x-r-source",
   "name": "R",
   "pygments_lexer": "r",
   "version": "4.2.1"
  }
 },
 "nbformat": 4,
 "nbformat_minor": 5
}
