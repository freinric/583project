{
 "cells": [
  {
   "cell_type": "code",
   "execution_count": 1,
   "id": "9919304f",
   "metadata": {},
   "outputs": [
    {
     "data": {
      "text/html": [
       "'C:/Users/vjsng/Data583/583project'"
      ],
      "text/latex": [
       "'C:/Users/vjsng/Data583/583project'"
      ],
      "text/markdown": [
       "'C:/Users/vjsng/Data583/583project'"
      ],
      "text/plain": [
       "[1] \"C:/Users/vjsng/Data583/583project\""
      ]
     },
     "metadata": {},
     "output_type": "display_data"
    }
   ],
   "source": [
    "getwd()"
   ]
  },
  {
   "cell_type": "code",
   "execution_count": 2,
   "id": "15cab2fb",
   "metadata": {},
   "outputs": [],
   "source": [
    "day = read.csv(\"Bike-Sharing-Dataset//day.csv\", header = TRUE)\n",
    "hour = read.csv(\"Bike-Sharing-Dataset//hour.csv\", header = TRUE)"
   ]
  },
  {
   "cell_type": "code",
   "execution_count": 3,
   "id": "671eac79",
   "metadata": {},
   "outputs": [],
   "source": [
    "day$dteday = as.Date(day$dteday, format = \"%Y-%m-%d\") # converting 'dteday' column to date"
   ]
  },
  {
   "cell_type": "code",
   "execution_count": 4,
   "id": "dcf5a2f0",
   "metadata": {},
   "outputs": [
    {
     "data": {
      "text/html": [
       "<table class=\"dataframe\">\n",
       "<caption>A data.frame: 6 × 16</caption>\n",
       "<thead>\n",
       "\t<tr><th></th><th scope=col>instant</th><th scope=col>dteday</th><th scope=col>season</th><th scope=col>yr</th><th scope=col>mnth</th><th scope=col>holiday</th><th scope=col>weekday</th><th scope=col>workingday</th><th scope=col>weathersit</th><th scope=col>temp</th><th scope=col>atemp</th><th scope=col>hum</th><th scope=col>windspeed</th><th scope=col>casual</th><th scope=col>registered</th><th scope=col>cnt</th></tr>\n",
       "\t<tr><th></th><th scope=col>&lt;int&gt;</th><th scope=col>&lt;date&gt;</th><th scope=col>&lt;int&gt;</th><th scope=col>&lt;int&gt;</th><th scope=col>&lt;int&gt;</th><th scope=col>&lt;int&gt;</th><th scope=col>&lt;int&gt;</th><th scope=col>&lt;int&gt;</th><th scope=col>&lt;int&gt;</th><th scope=col>&lt;dbl&gt;</th><th scope=col>&lt;dbl&gt;</th><th scope=col>&lt;dbl&gt;</th><th scope=col>&lt;dbl&gt;</th><th scope=col>&lt;int&gt;</th><th scope=col>&lt;int&gt;</th><th scope=col>&lt;int&gt;</th></tr>\n",
       "</thead>\n",
       "<tbody>\n",
       "\t<tr><th scope=row>1</th><td>1</td><td>2011-01-01</td><td>1</td><td>0</td><td>1</td><td>0</td><td>6</td><td>0</td><td>2</td><td>0.344167</td><td>0.363625</td><td>0.805833</td><td>0.1604460</td><td>331</td><td> 654</td><td> 985</td></tr>\n",
       "\t<tr><th scope=row>2</th><td>2</td><td>2011-01-02</td><td>1</td><td>0</td><td>1</td><td>0</td><td>0</td><td>0</td><td>2</td><td>0.363478</td><td>0.353739</td><td>0.696087</td><td>0.2485390</td><td>131</td><td> 670</td><td> 801</td></tr>\n",
       "\t<tr><th scope=row>3</th><td>3</td><td>2011-01-03</td><td>1</td><td>0</td><td>1</td><td>0</td><td>1</td><td>1</td><td>1</td><td>0.196364</td><td>0.189405</td><td>0.437273</td><td>0.2483090</td><td>120</td><td>1229</td><td>1349</td></tr>\n",
       "\t<tr><th scope=row>4</th><td>4</td><td>2011-01-04</td><td>1</td><td>0</td><td>1</td><td>0</td><td>2</td><td>1</td><td>1</td><td>0.200000</td><td>0.212122</td><td>0.590435</td><td>0.1602960</td><td>108</td><td>1454</td><td>1562</td></tr>\n",
       "\t<tr><th scope=row>5</th><td>5</td><td>2011-01-05</td><td>1</td><td>0</td><td>1</td><td>0</td><td>3</td><td>1</td><td>1</td><td>0.226957</td><td>0.229270</td><td>0.436957</td><td>0.1869000</td><td> 82</td><td>1518</td><td>1600</td></tr>\n",
       "\t<tr><th scope=row>6</th><td>6</td><td>2011-01-06</td><td>1</td><td>0</td><td>1</td><td>0</td><td>4</td><td>1</td><td>1</td><td>0.204348</td><td>0.233209</td><td>0.518261</td><td>0.0895652</td><td> 88</td><td>1518</td><td>1606</td></tr>\n",
       "</tbody>\n",
       "</table>\n"
      ],
      "text/latex": [
       "A data.frame: 6 × 16\n",
       "\\begin{tabular}{r|llllllllllllllll}\n",
       "  & instant & dteday & season & yr & mnth & holiday & weekday & workingday & weathersit & temp & atemp & hum & windspeed & casual & registered & cnt\\\\\n",
       "  & <int> & <date> & <int> & <int> & <int> & <int> & <int> & <int> & <int> & <dbl> & <dbl> & <dbl> & <dbl> & <int> & <int> & <int>\\\\\n",
       "\\hline\n",
       "\t1 & 1 & 2011-01-01 & 1 & 0 & 1 & 0 & 6 & 0 & 2 & 0.344167 & 0.363625 & 0.805833 & 0.1604460 & 331 &  654 &  985\\\\\n",
       "\t2 & 2 & 2011-01-02 & 1 & 0 & 1 & 0 & 0 & 0 & 2 & 0.363478 & 0.353739 & 0.696087 & 0.2485390 & 131 &  670 &  801\\\\\n",
       "\t3 & 3 & 2011-01-03 & 1 & 0 & 1 & 0 & 1 & 1 & 1 & 0.196364 & 0.189405 & 0.437273 & 0.2483090 & 120 & 1229 & 1349\\\\\n",
       "\t4 & 4 & 2011-01-04 & 1 & 0 & 1 & 0 & 2 & 1 & 1 & 0.200000 & 0.212122 & 0.590435 & 0.1602960 & 108 & 1454 & 1562\\\\\n",
       "\t5 & 5 & 2011-01-05 & 1 & 0 & 1 & 0 & 3 & 1 & 1 & 0.226957 & 0.229270 & 0.436957 & 0.1869000 &  82 & 1518 & 1600\\\\\n",
       "\t6 & 6 & 2011-01-06 & 1 & 0 & 1 & 0 & 4 & 1 & 1 & 0.204348 & 0.233209 & 0.518261 & 0.0895652 &  88 & 1518 & 1606\\\\\n",
       "\\end{tabular}\n"
      ],
      "text/markdown": [
       "\n",
       "A data.frame: 6 × 16\n",
       "\n",
       "| <!--/--> | instant &lt;int&gt; | dteday &lt;date&gt; | season &lt;int&gt; | yr &lt;int&gt; | mnth &lt;int&gt; | holiday &lt;int&gt; | weekday &lt;int&gt; | workingday &lt;int&gt; | weathersit &lt;int&gt; | temp &lt;dbl&gt; | atemp &lt;dbl&gt; | hum &lt;dbl&gt; | windspeed &lt;dbl&gt; | casual &lt;int&gt; | registered &lt;int&gt; | cnt &lt;int&gt; |\n",
       "|---|---|---|---|---|---|---|---|---|---|---|---|---|---|---|---|---|\n",
       "| 1 | 1 | 2011-01-01 | 1 | 0 | 1 | 0 | 6 | 0 | 2 | 0.344167 | 0.363625 | 0.805833 | 0.1604460 | 331 |  654 |  985 |\n",
       "| 2 | 2 | 2011-01-02 | 1 | 0 | 1 | 0 | 0 | 0 | 2 | 0.363478 | 0.353739 | 0.696087 | 0.2485390 | 131 |  670 |  801 |\n",
       "| 3 | 3 | 2011-01-03 | 1 | 0 | 1 | 0 | 1 | 1 | 1 | 0.196364 | 0.189405 | 0.437273 | 0.2483090 | 120 | 1229 | 1349 |\n",
       "| 4 | 4 | 2011-01-04 | 1 | 0 | 1 | 0 | 2 | 1 | 1 | 0.200000 | 0.212122 | 0.590435 | 0.1602960 | 108 | 1454 | 1562 |\n",
       "| 5 | 5 | 2011-01-05 | 1 | 0 | 1 | 0 | 3 | 1 | 1 | 0.226957 | 0.229270 | 0.436957 | 0.1869000 |  82 | 1518 | 1600 |\n",
       "| 6 | 6 | 2011-01-06 | 1 | 0 | 1 | 0 | 4 | 1 | 1 | 0.204348 | 0.233209 | 0.518261 | 0.0895652 |  88 | 1518 | 1606 |\n",
       "\n"
      ],
      "text/plain": [
       "  instant dteday     season yr mnth holiday weekday workingday weathersit\n",
       "1 1       2011-01-01 1      0  1    0       6       0          2         \n",
       "2 2       2011-01-02 1      0  1    0       0       0          2         \n",
       "3 3       2011-01-03 1      0  1    0       1       1          1         \n",
       "4 4       2011-01-04 1      0  1    0       2       1          1         \n",
       "5 5       2011-01-05 1      0  1    0       3       1          1         \n",
       "6 6       2011-01-06 1      0  1    0       4       1          1         \n",
       "  temp     atemp    hum      windspeed casual registered cnt \n",
       "1 0.344167 0.363625 0.805833 0.1604460 331     654        985\n",
       "2 0.363478 0.353739 0.696087 0.2485390 131     670        801\n",
       "3 0.196364 0.189405 0.437273 0.2483090 120    1229       1349\n",
       "4 0.200000 0.212122 0.590435 0.1602960 108    1454       1562\n",
       "5 0.226957 0.229270 0.436957 0.1869000  82    1518       1600\n",
       "6 0.204348 0.233209 0.518261 0.0895652  88    1518       1606"
      ]
     },
     "metadata": {},
     "output_type": "display_data"
    },
    {
     "data": {
      "text/html": [
       "<style>\n",
       ".dl-inline {width: auto; margin:0; padding: 0}\n",
       ".dl-inline>dt, .dl-inline>dd {float: none; width: auto; display: inline-block}\n",
       ".dl-inline>dt::after {content: \":\\0020\"; padding-right: .5ex}\n",
       ".dl-inline>dt:not(:first-of-type) {padding-left: .5ex}\n",
       "</style><dl class=dl-inline><dt>instant</dt><dd>0</dd><dt>dteday</dt><dd>0</dd><dt>season</dt><dd>0</dd><dt>yr</dt><dd>0</dd><dt>mnth</dt><dd>0</dd><dt>holiday</dt><dd>0</dd><dt>weekday</dt><dd>0</dd><dt>workingday</dt><dd>0</dd><dt>weathersit</dt><dd>0</dd><dt>temp</dt><dd>0</dd><dt>atemp</dt><dd>0</dd><dt>hum</dt><dd>0</dd><dt>windspeed</dt><dd>0</dd><dt>casual</dt><dd>0</dd><dt>registered</dt><dd>0</dd><dt>cnt</dt><dd>0</dd></dl>\n"
      ],
      "text/latex": [
       "\\begin{description*}\n",
       "\\item[instant] 0\n",
       "\\item[dteday] 0\n",
       "\\item[season] 0\n",
       "\\item[yr] 0\n",
       "\\item[mnth] 0\n",
       "\\item[holiday] 0\n",
       "\\item[weekday] 0\n",
       "\\item[workingday] 0\n",
       "\\item[weathersit] 0\n",
       "\\item[temp] 0\n",
       "\\item[atemp] 0\n",
       "\\item[hum] 0\n",
       "\\item[windspeed] 0\n",
       "\\item[casual] 0\n",
       "\\item[registered] 0\n",
       "\\item[cnt] 0\n",
       "\\end{description*}\n"
      ],
      "text/markdown": [
       "instant\n",
       ":   0dteday\n",
       ":   0season\n",
       ":   0yr\n",
       ":   0mnth\n",
       ":   0holiday\n",
       ":   0weekday\n",
       ":   0workingday\n",
       ":   0weathersit\n",
       ":   0temp\n",
       ":   0atemp\n",
       ":   0hum\n",
       ":   0windspeed\n",
       ":   0casual\n",
       ":   0registered\n",
       ":   0cnt\n",
       ":   0\n",
       "\n"
      ],
      "text/plain": [
       "   instant     dteday     season         yr       mnth    holiday    weekday \n",
       "         0          0          0          0          0          0          0 \n",
       "workingday weathersit       temp      atemp        hum  windspeed     casual \n",
       "         0          0          0          0          0          0          0 \n",
       "registered        cnt \n",
       "         0          0 "
      ]
     },
     "metadata": {},
     "output_type": "display_data"
    }
   ],
   "source": [
    "head(day)\n",
    "colSums(is.na(day))"
   ]
  },
  {
   "cell_type": "markdown",
   "id": "c458407c",
   "metadata": {},
   "source": [
    "# Data types"
   ]
  },
  {
   "cell_type": "code",
   "execution_count": 5,
   "id": "c511bc91",
   "metadata": {},
   "outputs": [
    {
     "name": "stdout",
     "output_type": "stream",
     "text": [
      "'data.frame':\t731 obs. of  16 variables:\n",
      " $ instant   : int  1 2 3 4 5 6 7 8 9 10 ...\n",
      " $ dteday    : Date, format: \"2011-01-01\" \"2011-01-02\" ...\n",
      " $ season    : int  1 1 1 1 1 1 1 1 1 1 ...\n",
      " $ yr        : int  0 0 0 0 0 0 0 0 0 0 ...\n",
      " $ mnth      : int  1 1 1 1 1 1 1 1 1 1 ...\n",
      " $ holiday   : int  0 0 0 0 0 0 0 0 0 0 ...\n",
      " $ weekday   : int  6 0 1 2 3 4 5 6 0 1 ...\n",
      " $ workingday: int  0 0 1 1 1 1 1 0 0 1 ...\n",
      " $ weathersit: int  2 2 1 1 1 1 2 2 1 1 ...\n",
      " $ temp      : num  0.344 0.363 0.196 0.2 0.227 ...\n",
      " $ atemp     : num  0.364 0.354 0.189 0.212 0.229 ...\n",
      " $ hum       : num  0.806 0.696 0.437 0.59 0.437 ...\n",
      " $ windspeed : num  0.16 0.249 0.248 0.16 0.187 ...\n",
      " $ casual    : int  331 131 120 108 82 88 148 68 54 41 ...\n",
      " $ registered: int  654 670 1229 1454 1518 1518 1362 891 768 1280 ...\n",
      " $ cnt       : int  985 801 1349 1562 1600 1606 1510 959 822 1321 ...\n"
     ]
    }
   ],
   "source": [
    "str(day)"
   ]
  },
  {
   "cell_type": "markdown",
   "id": "3461c1b5",
   "metadata": {},
   "source": [
    "The dateday column has been explicitly converted to date format, it was 'char' by default."
   ]
  },
  {
   "cell_type": "code",
   "execution_count": 6,
   "id": "6cba5272",
   "metadata": {},
   "outputs": [
    {
     "data": {
      "text/html": [
       "<style>\n",
       ".list-inline {list-style: none; margin:0; padding: 0}\n",
       ".list-inline>li {display: inline-block}\n",
       ".list-inline>li:not(:last-child)::after {content: \"\\00b7\"; padding: 0 .5ex}\n",
       "</style>\n",
       "<ol class=list-inline><li>731</li><li>16</li></ol>\n"
      ],
      "text/latex": [
       "\\begin{enumerate*}\n",
       "\\item 731\n",
       "\\item 16\n",
       "\\end{enumerate*}\n"
      ],
      "text/markdown": [
       "1. 731\n",
       "2. 16\n",
       "\n",
       "\n"
      ],
      "text/plain": [
       "[1] 731  16"
      ]
     },
     "metadata": {},
     "output_type": "display_data"
    }
   ],
   "source": [
    "dim(day)"
   ]
  },
  {
   "cell_type": "code",
   "execution_count": 7,
   "id": "ed28be11",
   "metadata": {},
   "outputs": [
    {
     "data": {
      "text/html": [
       "<style>\n",
       ".list-inline {list-style: none; margin:0; padding: 0}\n",
       ".list-inline>li {display: inline-block}\n",
       ".list-inline>li:not(:last-child)::after {content: \"\\00b7\"; padding: 0 .5ex}\n",
       "</style>\n",
       "<ol class=list-inline><li>14.110847</li><li>14.902598</li><li>8.050924</li><li>8.2</li><li>9.305237</li><li>8.378268</li></ol>\n"
      ],
      "text/latex": [
       "\\begin{enumerate*}\n",
       "\\item 14.110847\n",
       "\\item 14.902598\n",
       "\\item 8.050924\n",
       "\\item 8.2\n",
       "\\item 9.305237\n",
       "\\item 8.378268\n",
       "\\end{enumerate*}\n"
      ],
      "text/markdown": [
       "1. 14.110847\n",
       "2. 14.902598\n",
       "3. 8.050924\n",
       "4. 8.2\n",
       "5. 9.305237\n",
       "6. 8.378268\n",
       "\n",
       "\n"
      ],
      "text/plain": [
       "[1] 14.110847 14.902598  8.050924  8.200000  9.305237  8.378268"
      ]
     },
     "metadata": {},
     "output_type": "display_data"
    },
    {
     "data": {
      "text/html": [
       "<style>\n",
       ".list-inline {list-style: none; margin:0; padding: 0}\n",
       ".list-inline>li {display: inline-block}\n",
       ".list-inline>li:not(:last-child)::after {content: \"\\00b7\"; padding: 0 .5ex}\n",
       "</style>\n",
       "<ol class=list-inline><li>18.18125</li><li>17.68695</li><li>9.47025</li><li>10.6061</li><li>11.4635</li><li>11.66045</li></ol>\n"
      ],
      "text/latex": [
       "\\begin{enumerate*}\n",
       "\\item 18.18125\n",
       "\\item 17.68695\n",
       "\\item 9.47025\n",
       "\\item 10.6061\n",
       "\\item 11.4635\n",
       "\\item 11.66045\n",
       "\\end{enumerate*}\n"
      ],
      "text/markdown": [
       "1. 18.18125\n",
       "2. 17.68695\n",
       "3. 9.47025\n",
       "4. 10.6061\n",
       "5. 11.4635\n",
       "6. 11.66045\n",
       "\n",
       "\n"
      ],
      "text/plain": [
       "[1] 18.18125 17.68695  9.47025 10.60610 11.46350 11.66045"
      ]
     },
     "metadata": {},
     "output_type": "display_data"
    }
   ],
   "source": [
    "day$rawtemp = day$temp * 41 # converting temp to raw form from normalized form\n",
    "head(day)$rawtemp\n",
    "day$rawatemp = day$atemp * 50 # converting atemp to raw form from normalized form\n",
    "head(day)$rawatemp"
   ]
  },
  {
   "cell_type": "code",
   "execution_count": 40,
   "id": "680742fb",
   "metadata": {},
   "outputs": [
    {
     "data": {
      "image/png": "[encoded data removed]",
      "text/plain": [
       "plot without title"
      ]
     },
     "metadata": {
      "image/png": {
       "height": 600,
       "width": 1200
      }
     },
     "output_type": "display_data"
    }
   ],
   "source": [
    "plot(day$rawtemp)\n",
    "options(repr.plot.width = 20, repr.plot.height = 10)"
   ]
  },
  {
   "cell_type": "code",
   "execution_count": 39,
   "id": "f3cbda89",
   "metadata": {},
   "outputs": [
    {
     "data": {
      "image/png": "[encoded data removed]",
      "text/plain": [
       "plot without title"
      ]
     },
     "metadata": {
      "image/png": {
       "height": 600,
       "width": 1200
      }
     },
     "output_type": "display_data"
    }
   ],
   "source": [
    "library(dplyr)\n",
    "library(ggplot2)\n",
    "\n",
    "df <- day %>% \n",
    "    mutate(month_year = format(dteday, \"%Y-%m\")) %>% \n",
    "    select(month_year, rawtemp)\n",
    "\n",
    "# Calculate average temperature by month and year\n",
    "df_avg <- df %>% \n",
    "  group_by(month_year) %>% \n",
    "  summarise(avg_rawtemp = mean(rawtemp))\n",
    "\n",
    "\n",
    "# Plot the average temperature by month and year\n",
    "ggplot(df_avg, aes(x = month_year, y = avg_rawtemp)) + \n",
    "\n",
    "geom_point(size = 5) +\n",
    "\n",
    "labs(x = \"Month-Year\", y = \"Average Temperature (Celsius)\") +\n",
    "\n",
    "ggtitle(\"Average temp by month for both the years\") +\n",
    "\n",
    "theme(axis.title.x = element_text(size = 20), \n",
    "      axis.title.y = element_text(size = 20), \n",
    "      plot.title = element_text(size = 30))\n",
    "\n",
    "# options(repr.plot.width = 20, repr.plot.height = 10)"
   ]
  }
 ],
 "metadata": {
  "kernelspec": {
   "display_name": "R",
   "language": "R",
   "name": "ir"
  },
  "language_info": {
   "codemirror_mode": "r",
   "file_extension": ".r",
   "mimetype": "text/x-r-source",
   "name": "R",
   "pygments_lexer": "r",
   "version": "4.2.1"
  }
 },
 "nbformat": 4,
 "nbformat_minor": 5
}
