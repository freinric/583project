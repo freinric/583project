{
 "cells": [
  {
   "cell_type": "code",
   "execution_count": null,
   "id": "e43da852",
   "metadata": {},
   "outputs": [],
   "source": [
    "library(ggplot2)\n",
    "library(dplyr)"
   ]
  },
  {
   "cell_type": "markdown",
   "id": "f46c4bfb",
   "metadata": {},
   "source": [
    "# Day csv"
   ]
  },
  {
   "cell_type": "code",
   "execution_count": null,
   "id": "b3455dfe",
   "metadata": {},
   "outputs": [],
   "source": [
    "day = read.csv(\"Bike-Sharing-Dataset//day.csv\", header = TRUE)\n",
    "myday = day\n",
    "head(myday)"
   ]
  },
  {
   "cell_type": "code",
   "execution_count": null,
   "id": "9b02c3ba",
   "metadata": {},
   "outputs": [],
   "source": [
    "day$dteday = as.Date(day$dteday, format = \"%Y-%m-%d\") # converting 'dteday' column to date"
   ]
  },
  {
   "cell_type": "code",
   "execution_count": null,
   "id": "14cafca3",
   "metadata": {},
   "outputs": [],
   "source": [
    "head(day, 10)\n",
    "colSums(is.na(day))"
   ]
  },
  {
   "cell_type": "code",
   "execution_count": null,
   "id": "006a60b7",
   "metadata": {},
   "outputs": [],
   "source": [
    "str(day)"
   ]
  },
  {
   "cell_type": "markdown",
   "id": "d5b51006",
   "metadata": {},
   "source": [
    "The dateday column has been explicitly converted to date format, it was 'char' by default."
   ]
  },
  {
   "cell_type": "code",
   "execution_count": null,
   "id": "f912d0d0",
   "metadata": {},
   "outputs": [],
   "source": [
    "dim(day)"
   ]
  },
  {
   "cell_type": "code",
   "execution_count": null,
   "id": "fde04cf1",
   "metadata": {},
   "outputs": [],
   "source": [
    "day$rawtemp = day$temp*41 # converting temp to raw form from normalized form\n",
    "head(day)$rawtemp\n",
    "day$rawatemp = day$atemp*50 # converting atemp to raw form from normalized form\n",
    "head(day)$rawatemp\n",
    "day$rawhum = day$hum*100 # converting hum to raw form from normalized form\n",
    "head(day)$rawhum\n",
    "day$rawwindspeed = day$windspeed*67 # converting windspeed to raw form from normalized form\n",
    "head(day)$rawwindspeed"
   ]
  },
  {
   "cell_type": "code",
   "execution_count": null,
   "id": "5190fc8c",
   "metadata": {},
   "outputs": [],
   "source": [
    "qqnorm(day$temp)\n",
    "qqline(day$temp, col = \"red\", lwd = 3)"
   ]
  },
  {
   "cell_type": "code",
   "execution_count": null,
   "id": "d9c20226",
   "metadata": {},
   "outputs": [],
   "source": [
    "qqnorm(day$hum)\n",
    "qqline(day$hum, col = \"red\", lwd = 2)"
   ]
  },
  {
   "cell_type": "code",
   "execution_count": null,
   "id": "bd47a50f",
   "metadata": {},
   "outputs": [],
   "source": [
    "qqnorm(day$windspeed, cex = 1.5)\n",
    "qqline(day$windspeed, col = \"red\", lwd = 2)"
   ]
  },
  {
   "cell_type": "code",
   "execution_count": null,
   "id": "9110b6ba",
   "metadata": {},
   "outputs": [],
   "source": [
    "options(repr.plot.width = 15, repr.plot.height = 10)\n",
    "\n",
    "\n",
    "ggplot(day, aes(x = instant, y = temp)) +\n",
    "  geom_point(size= 5)"
   ]
  },
  {
   "cell_type": "code",
   "execution_count": null,
   "id": "e796b7f7",
   "metadata": {},
   "outputs": [],
   "source": [
    "mydata = day\n",
    "\n",
    "# converting factor values from 0, 1 to 2011, 2012\n",
    "mydata$yr <- ifelse(mydata$yr == 0, 2011, 2012)\n",
    "mydata$yr = factor(mydata$yr)\n",
    "\n",
    "options(repr.plot.width = 15, repr.plot.height = 10)\n",
    "\n",
    "ggplot(mydata, aes(x = mnth, y = temp, color = yr)) +\n",
    "  geom_point(size= 4, alpha = 0.7) +\n",
    "scale_x_continuous(breaks = seq(1, 12, by = 1)) + \n",
    "labs(title = \"Raw temperature by month\", x = \"Month\", y = \"Normalized temp (in C)\") +\n",
    "theme(axis.title.x = element_text(size = 20), \n",
    "      axis.title.y = element_text(size = 20), \n",
    "      plot.title = element_text(size = 30, hjust = 0.5),\n",
    "      legend.position = \"top\", legend.justification = \"right\",\n",
    "      legend.text = element_text(size = 14))\n",
    "# scale_x_continuous(breaks = seq(1, 12, by = 1))"
   ]
  },
  {
   "cell_type": "code",
   "execution_count": null,
   "id": "29db87ed",
   "metadata": {},
   "outputs": [],
   "source": [
    "# aggregating data by month & year\n",
    "\n",
    "df <- day %>% \n",
    "    mutate(month_year = format(dteday, \"%Y-%m\")) %>% \n",
    "    select(month_year, rawtemp)\n",
    "\n",
    "# calculate average temperature by month and year\n",
    "\n",
    "df_avg <- df %>% \n",
    "  group_by(month_year) %>% \n",
    "  summarise(avg_rawtemp = mean(rawtemp))\n",
    "\n",
    "\n",
    "# plot the average temperature for each month per year\n",
    "\n",
    "options(repr.plot.width = 15, repr.plot.height = 10)\n",
    "\n",
    "ggplot(df_avg, aes(x = month_year, y = avg_rawtemp)) + \n",
    "geom_point(size = 5, color = \"red\") +\n",
    "labs(x = \"Month-Year\", y = \"Average Temperature (Celsius)\") +\n",
    "ggtitle(\"Average Temperature for each month in 2011 & 2012\") +\n",
    "theme(axis.title.x = element_text(size = 25), \n",
    "      axis.title.y = element_text(size = 25), \n",
    "      plot.title = element_text(size = 30, hjust = 0.5),\n",
    "      axis.text.y = element_text(size = 14))"
   ]
  },
  {
   "cell_type": "markdown",
   "id": "cdacefba",
   "metadata": {},
   "source": [
    "# Hour csv read"
   ]
  },
  {
   "cell_type": "code",
   "execution_count": null,
   "id": "4f4f756a",
   "metadata": {},
   "outputs": [],
   "source": [
    "hour = read.csv(\"Bike-Sharing-Dataset//hour.csv\", header = TRUE)\n",
    "myhour = hour\n",
    "head(myhour)"
   ]
  },
  {
   "cell_type": "code",
   "execution_count": null,
   "id": "57d1e1e2",
   "metadata": {},
   "outputs": [],
   "source": [
    "colSums(is.na(hour))"
   ]
  },
  {
   "cell_type": "code",
   "execution_count": null,
   "id": "82e69b7f",
   "metadata": {},
   "outputs": [],
   "source": [
    "hour$dteday = as.Date(hour$dteday, format = \"%Y-%m-%d\") # converting 'dteday' column to date\n",
    "head(hour)"
   ]
  },
  {
   "cell_type": "code",
   "execution_count": null,
   "id": "2db26ea1",
   "metadata": {},
   "outputs": [],
   "source": [
    "str(hour)"
   ]
  },
  {
   "cell_type": "code",
   "execution_count": null,
   "id": "1b1bedd3",
   "metadata": {},
   "outputs": [],
   "source": [
    "dim(hour)"
   ]
  },
  {
   "cell_type": "code",
   "execution_count": null,
   "id": "ef0850c4",
   "metadata": {},
   "outputs": [],
   "source": [
    "hour$rawtemp = hour$temp*41 # converting temp to raw form from normalized form\n",
    "hour$rawatemp = hour$atemp*50 # converting atemp to raw form from normalized form\n",
    "hour$rawhum = hour$hum*100 # converting atemp to raw form from normalized form\n",
    "hour$rawwindspeed = hour$windspeed*67 # converting atemp to raw form from normalized form"
   ]
  },
  {
   "cell_type": "markdown",
   "id": "f9bc680f",
   "metadata": {},
   "source": [
    "# Monthly averages for both years (using day csv)"
   ]
  },
  {
   "cell_type": "code",
   "execution_count": null,
   "id": "15419bfd",
   "metadata": {},
   "outputs": [],
   "source": [
    "# creating monthly averages for the year 2011\n",
    "\n",
    "year_2011 <- subset(day, yr == 0)\n",
    "avg_counts_2011 <- aggregate(cnt ~ mnth, data = year_2011, FUN = mean)\n",
    "avg_counts_2011$yr = 2011\n",
    "avg_counts_2011$yr = factor(avg_counts_2011$yr)\n",
    "\n",
    "# creating monthly averages for the year 2012\n",
    "\n",
    "year_2012 <- subset(day, yr == 1)\n",
    "avg_counts_2012 <- aggregate(cnt ~ mnth, data = year_2012, FUN = mean)\n",
    "avg_counts_2012$yr = 2012\n",
    "avg_counts_2012$yr = factor(avg_counts_2012$yr)\n",
    "\n",
    "# combining monthly averages for both the months\n",
    "\n",
    "myavg = rbind(avg_counts_2011, avg_counts_2012)"
   ]
  },
  {
   "cell_type": "code",
   "execution_count": null,
   "id": "6ff848b3",
   "metadata": {},
   "outputs": [],
   "source": [
    "boxplot(year_2011$cnt, main = \"Count variation in 2011\", ylab = \"Count\", col = \"red\")"
   ]
  },
  {
   "cell_type": "code",
   "execution_count": null,
   "id": "79e6c323",
   "metadata": {},
   "outputs": [],
   "source": [
    "boxplot(year_2012$cnt, main = \"Count variation in 2012\", ylab = \"Count\", col = \"red\")"
   ]
  },
  {
   "cell_type": "code",
   "execution_count": null,
   "id": "57c57c6a",
   "metadata": {},
   "outputs": [],
   "source": [
    "options(repr.plot.width = 15, repr.plot.height = 10)\n",
    "\n",
    "ggplot(myavg, aes(x = mnth, y = cnt, color = yr)) +\n",
    "  geom_point(size= 5) +\n",
    "  geom_line() +\n",
    "  labs(title = \"Average Bike Rental Counts per month for 2011 & 2012\",\n",
    "       x = \"Month\",\n",
    "       y = \"Average Rental Count\",\n",
    "       color = \"Year\") +\n",
    "theme(axis.title.x = element_text(size = 20), \n",
    "      axis.title.y = element_text(size = 20), \n",
    "      plot.title = element_text(size = 30, hjust = 0.5),\n",
    "      legend.position = \"top\", legend.justification = \"right\",\n",
    "      legend.text = element_text(size = 14),\n",
    "      axis.text.x = element_text(size = 14),\n",
    "      axis.text.y = element_text(size = 14)) +\n",
    "scale_x_continuous(breaks = seq(1, 12, by = 1)) + \n",
    "scale_y_continuous(limits = c(0, 8000), breaks = seq(0, 8000, 2000))"
   ]
  },
  {
   "cell_type": "code",
   "execution_count": null,
   "id": "356067ae",
   "metadata": {},
   "outputs": [],
   "source": [
    "head(day)"
   ]
  },
  {
   "cell_type": "code",
   "execution_count": null,
   "id": "4084c5a4",
   "metadata": {},
   "outputs": [],
   "source": [
    "max(day$rawhum)"
   ]
  },
  {
   "cell_type": "code",
   "execution_count": null,
   "id": "bb7de795",
   "metadata": {},
   "outputs": [],
   "source": [
    "options(repr.plot.width = 15, repr.plot.height = 10)\n",
    "\n",
    "ggplot(day, aes(x = rawtemp, y = cnt, color = registered)) +\n",
    "  geom_point(size= 5) +\n",
    "  labs(title = \"Bike Rental Counts vs Temperature\",\n",
    "       x = \"Temperature (in C)\",\n",
    "       y = \"Rental Count\",\n",
    "       color = \"Registered or not\") +\n",
    "geom_smooth(method='lm') +\n",
    "theme(axis.title.x = element_text(size = 20), \n",
    "      axis.title.y = element_text(size = 20), \n",
    "      plot.title = element_text(size = 30, hjust = 0.5),\n",
    "      legend.position = \"top\", legend.justification = \"right\",\n",
    "      legend.text = element_text(size = 9),\n",
    "      axis.text.x = element_text(size = 14),\n",
    "      axis.text.y = element_text(size = 14)) +\n",
    "scale_x_continuous(limits = c(0, 40), breaks = seq(3, 36, by=3 )) +\n",
    "scale_y_continuous(limits = c(0, 9000), breaks = seq(0, 9000, 1000))"
   ]
  },
  {
   "cell_type": "code",
   "execution_count": null,
   "id": "7684e0b4",
   "metadata": {},
   "outputs": [],
   "source": [
    "options(repr.plot.width = 15, repr.plot.height = 10)\n",
    "\n",
    "ggplot(day, aes(x = rawhum, y = cnt, color = registered)) +\n",
    "  geom_point(size= 5) +\n",
    "  labs(title = \"Bike Rental Counts vs Temperature\",\n",
    "       x = \"Humidity\",\n",
    "       y = \"Rental Count\",\n",
    "       color = \"Registered or not\") + \n",
    "# geom_smooth(method='lm') +\n",
    "theme(axis.title.x = element_text(size = 20), \n",
    "      axis.title.y = element_text(size = 20), \n",
    "      plot.title = element_text(size = 30, hjust = 0.5),\n",
    "      legend.position = \"top\", legend.justification = \"right\",\n",
    "      legend.text = element_text(size = 9),\n",
    "      axis.text.x = element_text(size = 14),\n",
    "      axis.text.y = element_text(size = 14)) +\n",
    "scale_x_continuous(limits = c(0, 100), breaks = seq(0, 100, by=5 )) +\n",
    "scale_y_continuous(limits = c(0, 9000), breaks = seq(0, 9000, 1000))"
   ]
  },
  {
   "cell_type": "code",
   "execution_count": null,
   "id": "3efeedec",
   "metadata": {},
   "outputs": [],
   "source": [
    "# Load the ggplot2 package\n",
    "library(ggplot2)\n",
    "\n",
    "# Load the dataset\n",
    "bike = read.csv(\"Bike-Sharing-Dataset//hour.csv\", header = TRUE)\n",
    "\n",
    "# Fit a linear model with cnt as the response variable and temp as the predictor variable\n",
    "model <- lm(cnt ~ temp, data = bike)\n",
    "summary(model)"
   ]
  }
 ],
 "metadata": {
  "kernelspec": {
   "display_name": "R",
   "language": "R",
   "name": "ir"
  }
 },
 "nbformat": 4,
 "nbformat_minor": 5
}
